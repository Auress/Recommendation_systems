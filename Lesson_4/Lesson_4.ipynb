{
 "cells": [
  {
   "cell_type": "markdown",
   "metadata": {},
   "source": [
    "### Урок 4. Рекомендательные системы на основе контента"
   ]
  },
  {
   "cell_type": "markdown",
   "metadata": {},
   "source": [
    "### -- Автор: Шенк Евгений Станиславович"
   ]
  },
  {
   "cell_type": "markdown",
   "metadata": {},
   "source": [
    "# Вебинар 4. Домашнее задание"
   ]
  },
  {
   "cell_type": "markdown",
   "metadata": {},
   "source": [
    "Само домашнее задание нахожится в конце ноутбука"
   ]
  },
  {
   "cell_type": "markdown",
   "metadata": {},
   "source": [
    "---"
   ]
  },
  {
   "cell_type": "markdown",
   "metadata": {},
   "source": [
    "## Задание 1. Напишите свою функцию prefilter_items"
   ]
  },
  {
   "cell_type": "code",
   "execution_count": 1,
   "metadata": {},
   "outputs": [
    {
     "data": {
      "text/html": [
       "<div>\n",
       "<style scoped>\n",
       "    .dataframe tbody tr th:only-of-type {\n",
       "        vertical-align: middle;\n",
       "    }\n",
       "\n",
       "    .dataframe tbody tr th {\n",
       "        vertical-align: top;\n",
       "    }\n",
       "\n",
       "    .dataframe thead th {\n",
       "        text-align: right;\n",
       "    }\n",
       "</style>\n",
       "<table border=\"1\" class=\"dataframe\">\n",
       "  <thead>\n",
       "    <tr style=\"text-align: right;\">\n",
       "      <th></th>\n",
       "      <th>user_id</th>\n",
       "      <th>basket_id</th>\n",
       "      <th>day</th>\n",
       "      <th>item_id</th>\n",
       "      <th>quantity</th>\n",
       "      <th>sales_value</th>\n",
       "      <th>store_id</th>\n",
       "      <th>retail_disc</th>\n",
       "      <th>trans_time</th>\n",
       "      <th>week_no</th>\n",
       "      <th>coupon_disc</th>\n",
       "      <th>coupon_match_disc</th>\n",
       "    </tr>\n",
       "  </thead>\n",
       "  <tbody>\n",
       "    <tr>\n",
       "      <th>0</th>\n",
       "      <td>2375</td>\n",
       "      <td>26984851472</td>\n",
       "      <td>1</td>\n",
       "      <td>1004906</td>\n",
       "      <td>1</td>\n",
       "      <td>1.39</td>\n",
       "      <td>364</td>\n",
       "      <td>-0.6</td>\n",
       "      <td>1631</td>\n",
       "      <td>1</td>\n",
       "      <td>0.0</td>\n",
       "      <td>0.0</td>\n",
       "    </tr>\n",
       "    <tr>\n",
       "      <th>1</th>\n",
       "      <td>2375</td>\n",
       "      <td>26984851472</td>\n",
       "      <td>1</td>\n",
       "      <td>1033142</td>\n",
       "      <td>1</td>\n",
       "      <td>0.82</td>\n",
       "      <td>364</td>\n",
       "      <td>0.0</td>\n",
       "      <td>1631</td>\n",
       "      <td>1</td>\n",
       "      <td>0.0</td>\n",
       "      <td>0.0</td>\n",
       "    </tr>\n",
       "  </tbody>\n",
       "</table>\n",
       "</div>"
      ],
      "text/plain": [
       "   user_id    basket_id  day  item_id  quantity  sales_value  store_id  \\\n",
       "0     2375  26984851472    1  1004906         1         1.39       364   \n",
       "1     2375  26984851472    1  1033142         1         0.82       364   \n",
       "\n",
       "   retail_disc  trans_time  week_no  coupon_disc  coupon_match_disc  \n",
       "0         -0.6        1631        1          0.0                0.0  \n",
       "1          0.0        1631        1          0.0                0.0  "
      ]
     },
     "execution_count": 1,
     "metadata": {},
     "output_type": "execute_result"
    }
   ],
   "source": [
    "import pandas as pd\n",
    "\n",
    "data = pd.read_csv('../data/retail_train.csv')\n",
    "\n",
    "data.columns = [col.lower() for col in data.columns]\n",
    "data.rename(columns={'household_key': 'user_id',\n",
    "                    'product_id': 'item_id'},\n",
    "           inplace=True)\n",
    "\n",
    "\n",
    "test_size_weeks = 3\n",
    "\n",
    "data_train = data[data['week_no'] < data['week_no'].max() - test_size_weeks]\n",
    "data_test = data[data['week_no'] >= data['week_no'].max() - test_size_weeks]\n",
    "\n",
    "data_train.head(2)"
   ]
  },
  {
   "cell_type": "code",
   "execution_count": 2,
   "metadata": {},
   "outputs": [
    {
     "data": {
      "text/plain": [
       "'\\ndef prefilter_items(data, take_n_popular=5000):\\n    \"\"\"Предфильтрация товаров\"\"\"\\n\\n    # 0. Удаляем позиции у которых количество = 0\\n    idx = data.loc[data[\\'quantity\\'] == 0].index\\n    data.drop(idx, inplace = True)\\n    data.reset_index(drop=True, inplace=True)\\n    data[\\'usd_per_unit\\'] = data[\\'sales_value\\'] / data[\\'quantity\\']\\n\\n    # 1.2. Удаление товаров, со средней ценой < 1$ and > 30$\\n    df_grouped = data.groupby(by=[\\'item_id\\']).mean()\\n    idx_less_1 = data.loc[data[\\'item_id\\'].isin(df_grouped.loc[df_grouped[\\'usd_per_unit\\'] < 1].index)].index\\n    idx_more_30 = data.loc[data[\\'item_id\\'].isin(df_grouped.loc[df_grouped[\\'usd_per_unit\\'] > 30].index)].index\\n    data = data.loc[~data.index.isin(np.concatenate([idx_less_1, idx_more_30]))]\\n    data.reset_index(drop=True, inplace=True)\\n\\n    # 3. Придумайте свой фильтр (убраны товары, которые не продавались 1 год)\\n    df_grouped = data.groupby(by=[\\'item_id\\']).max().sort_values(\\'day\\')\\n    idx_sold_12m = data.loc[data[\\'item_id\\'].isin(df_grouped.loc[df_grouped[\\'day\\'] > (df_grouped[\\'day\\'].max() - 366)].index)].index\\n    data = data.loc[data.index.isin(idx_sold_12m)]\\n    data.reset_index(drop=True, inplace=True)\\n\\n    # 4. Выбор топ-N самых популярных товаров (N = take_n_popular)\\n    df_grouped = data.groupby(by=[\\'item_id\\']).sum().sort_values(\\'quantity\\', ascending = False)\\n    idx_top_k = data.loc[data[\\'item_id\\'].isin(df_grouped.head(take_n_popular).index)].index\\n    data = data.loc[data.index.isin(idx_top_k)]\\n    data.reset_index(drop=True, inplace=True)\\n\\n    return data\\n'"
      ]
     },
     "execution_count": 2,
     "metadata": {},
     "output_type": "execute_result"
    }
   ],
   "source": [
    "# Сохранено в utils.ru\n",
    "'''\n",
    "def prefilter_items(data, take_n_popular=5000):\n",
    "    \"\"\"Предфильтрация товаров\"\"\"\n",
    "\n",
    "    # 0. Удаляем позиции у которых количество = 0\n",
    "    idx = data.loc[data['quantity'] == 0].index\n",
    "    data.drop(idx, inplace = True)\n",
    "    data.reset_index(drop=True, inplace=True)\n",
    "    data['usd_per_unit'] = data['sales_value'] / data['quantity']\n",
    "\n",
    "    # 1.2. Удаление товаров, со средней ценой < 1$ and > 30$\n",
    "    df_grouped = data.groupby(by=['item_id']).mean()\n",
    "    idx_less_1 = data.loc[data['item_id'].isin(df_grouped.loc[df_grouped['usd_per_unit'] < 1].index)].index\n",
    "    idx_more_30 = data.loc[data['item_id'].isin(df_grouped.loc[df_grouped['usd_per_unit'] > 30].index)].index\n",
    "    data = data.loc[~data.index.isin(np.concatenate([idx_less_1, idx_more_30]))]\n",
    "    data.reset_index(drop=True, inplace=True)\n",
    "\n",
    "    # 3. Придумайте свой фильтр (убраны товары, которые не продавались 1 год)\n",
    "    df_grouped = data.groupby(by=['item_id']).max().sort_values('day')\n",
    "    idx_sold_12m = data.loc[data['item_id'].isin(df_grouped.loc[df_grouped['day'] > (df_grouped['day'].max() - 366)].index)].index\n",
    "    data = data.loc[data.index.isin(idx_sold_12m)]\n",
    "    data.reset_index(drop=True, inplace=True)\n",
    "\n",
    "    # 4. Выбор топ-N самых популярных товаров (N = take_n_popular)\n",
    "    df_grouped = data.groupby(by=['item_id']).sum().sort_values('quantity', ascending = False)\n",
    "    idx_top_k = data.loc[data['item_id'].isin(df_grouped.head(take_n_popular).index)].index\n",
    "    data = data.loc[data.index.isin(idx_top_k)]\n",
    "    data.reset_index(drop=True, inplace=True)\n",
    "\n",
    "    return data\n",
    "'''"
   ]
  },
  {
   "cell_type": "markdown",
   "metadata": {},
   "source": [
    "В корне проекта создайте модуль *src*. Положите функцию *prefilter_items* в файл *src/utils.py*  \n",
    "\n",
    "Далее запустите код ниже и перейдите к заданию 2 (в конце ноутбука)"
   ]
  },
  {
   "cell_type": "code",
   "execution_count": 3,
   "metadata": {},
   "outputs": [],
   "source": [
    "import pandas as pd\n",
    "import numpy as np\n",
    "import matplotlib.pyplot as plt\n",
    "%matplotlib inline\n",
    "\n",
    "# Для работы с матрицами\n",
    "from scipy.sparse import csr_matrix\n",
    "\n",
    "# Матричная факторизация\n",
    "from implicit.als import AlternatingLeastSquares\n",
    "from implicit.nearest_neighbours import ItemItemRecommender  # нужен для одного трюка\n",
    "from implicit.nearest_neighbours import bm25_weight, tfidf_weight\n",
    "\n",
    "# Функции из 1-ого вебинара\n",
    "import os, sys\n",
    "\n",
    "module_path = os.path.abspath(os.path.join(os.pardir))\n",
    "if module_path not in sys.path:\n",
    "    sys.path.append(module_path)\n",
    "    \n",
    "from src.metrics import precision_at_k, recall_at_k\n",
    "from src.utils import prefilter_items"
   ]
  },
  {
   "cell_type": "code",
   "execution_count": 4,
   "metadata": {},
   "outputs": [
    {
     "data": {
      "text/html": [
       "<div>\n",
       "<style scoped>\n",
       "    .dataframe tbody tr th:only-of-type {\n",
       "        vertical-align: middle;\n",
       "    }\n",
       "\n",
       "    .dataframe tbody tr th {\n",
       "        vertical-align: top;\n",
       "    }\n",
       "\n",
       "    .dataframe thead th {\n",
       "        text-align: right;\n",
       "    }\n",
       "</style>\n",
       "<table border=\"1\" class=\"dataframe\">\n",
       "  <thead>\n",
       "    <tr style=\"text-align: right;\">\n",
       "      <th></th>\n",
       "      <th>user_id</th>\n",
       "      <th>basket_id</th>\n",
       "      <th>day</th>\n",
       "      <th>item_id</th>\n",
       "      <th>quantity</th>\n",
       "      <th>sales_value</th>\n",
       "      <th>store_id</th>\n",
       "      <th>retail_disc</th>\n",
       "      <th>trans_time</th>\n",
       "      <th>week_no</th>\n",
       "      <th>coupon_disc</th>\n",
       "      <th>coupon_match_disc</th>\n",
       "    </tr>\n",
       "  </thead>\n",
       "  <tbody>\n",
       "    <tr>\n",
       "      <th>0</th>\n",
       "      <td>2375</td>\n",
       "      <td>26984851472</td>\n",
       "      <td>1</td>\n",
       "      <td>1004906</td>\n",
       "      <td>1</td>\n",
       "      <td>1.39</td>\n",
       "      <td>364</td>\n",
       "      <td>-0.6</td>\n",
       "      <td>1631</td>\n",
       "      <td>1</td>\n",
       "      <td>0.0</td>\n",
       "      <td>0.0</td>\n",
       "    </tr>\n",
       "    <tr>\n",
       "      <th>1</th>\n",
       "      <td>2375</td>\n",
       "      <td>26984851472</td>\n",
       "      <td>1</td>\n",
       "      <td>1033142</td>\n",
       "      <td>1</td>\n",
       "      <td>0.82</td>\n",
       "      <td>364</td>\n",
       "      <td>0.0</td>\n",
       "      <td>1631</td>\n",
       "      <td>1</td>\n",
       "      <td>0.0</td>\n",
       "      <td>0.0</td>\n",
       "    </tr>\n",
       "  </tbody>\n",
       "</table>\n",
       "</div>"
      ],
      "text/plain": [
       "   user_id    basket_id  day  item_id  quantity  sales_value  store_id  \\\n",
       "0     2375  26984851472    1  1004906         1         1.39       364   \n",
       "1     2375  26984851472    1  1033142         1         0.82       364   \n",
       "\n",
       "   retail_disc  trans_time  week_no  coupon_disc  coupon_match_disc  \n",
       "0         -0.6        1631        1          0.0                0.0  \n",
       "1          0.0        1631        1          0.0                0.0  "
      ]
     },
     "execution_count": 4,
     "metadata": {},
     "output_type": "execute_result"
    }
   ],
   "source": [
    "data = pd.read_csv('../data/retail_train.csv')\n",
    "\n",
    "data.columns = [col.lower() for col in data.columns]\n",
    "data.rename(columns={'household_key': 'user_id',\n",
    "                    'product_id': 'item_id'},\n",
    "           inplace=True)\n",
    "\n",
    "\n",
    "test_size_weeks = 3\n",
    "\n",
    "data_train = data[data['week_no'] < data['week_no'].max() - test_size_weeks]\n",
    "data_test = data[data['week_no'] >= data['week_no'].max() - test_size_weeks]\n",
    "\n",
    "# Warm start\n",
    "train_items = data_train['item_id'].unique()\n",
    "train_users = data_train['user_id'].unique()\n",
    "\n",
    "data_test = data_test[data_test['item_id'].isin(train_items)]\n",
    "data_test = data_test[data_test['user_id'].isin(train_users)]\n",
    "\n",
    "data_train.head(2)"
   ]
  },
  {
   "cell_type": "code",
   "execution_count": 5,
   "metadata": {},
   "outputs": [
    {
     "data": {
      "text/html": [
       "<div>\n",
       "<style scoped>\n",
       "    .dataframe tbody tr th:only-of-type {\n",
       "        vertical-align: middle;\n",
       "    }\n",
       "\n",
       "    .dataframe tbody tr th {\n",
       "        vertical-align: top;\n",
       "    }\n",
       "\n",
       "    .dataframe thead th {\n",
       "        text-align: right;\n",
       "    }\n",
       "</style>\n",
       "<table border=\"1\" class=\"dataframe\">\n",
       "  <thead>\n",
       "    <tr style=\"text-align: right;\">\n",
       "      <th></th>\n",
       "      <th>item_id</th>\n",
       "      <th>manufacturer</th>\n",
       "      <th>department</th>\n",
       "      <th>brand</th>\n",
       "      <th>commodity_desc</th>\n",
       "      <th>sub_commodity_desc</th>\n",
       "      <th>curr_size_of_product</th>\n",
       "    </tr>\n",
       "  </thead>\n",
       "  <tbody>\n",
       "    <tr>\n",
       "      <th>0</th>\n",
       "      <td>25671</td>\n",
       "      <td>2</td>\n",
       "      <td>GROCERY</td>\n",
       "      <td>National</td>\n",
       "      <td>FRZN ICE</td>\n",
       "      <td>ICE - CRUSHED/CUBED</td>\n",
       "      <td>22 LB</td>\n",
       "    </tr>\n",
       "    <tr>\n",
       "      <th>1</th>\n",
       "      <td>26081</td>\n",
       "      <td>2</td>\n",
       "      <td>MISC. TRANS.</td>\n",
       "      <td>National</td>\n",
       "      <td>NO COMMODITY DESCRIPTION</td>\n",
       "      <td>NO SUBCOMMODITY DESCRIPTION</td>\n",
       "      <td></td>\n",
       "    </tr>\n",
       "  </tbody>\n",
       "</table>\n",
       "</div>"
      ],
      "text/plain": [
       "   item_id  manufacturer    department     brand            commodity_desc  \\\n",
       "0    25671             2       GROCERY  National                  FRZN ICE   \n",
       "1    26081             2  MISC. TRANS.  National  NO COMMODITY DESCRIPTION   \n",
       "\n",
       "            sub_commodity_desc curr_size_of_product  \n",
       "0          ICE - CRUSHED/CUBED                22 LB  \n",
       "1  NO SUBCOMMODITY DESCRIPTION                       "
      ]
     },
     "execution_count": 5,
     "metadata": {},
     "output_type": "execute_result"
    }
   ],
   "source": [
    "item_features = pd.read_csv('../data/product.csv')\n",
    "item_features.columns = [col.lower() for col in item_features.columns]\n",
    "item_features.rename(columns={'product_id': 'item_id'}, inplace=True)\n",
    "\n",
    "item_features.head(2)"
   ]
  },
  {
   "cell_type": "code",
   "execution_count": 6,
   "metadata": {},
   "outputs": [
    {
     "data": {
      "text/html": [
       "<div>\n",
       "<style scoped>\n",
       "    .dataframe tbody tr th:only-of-type {\n",
       "        vertical-align: middle;\n",
       "    }\n",
       "\n",
       "    .dataframe tbody tr th {\n",
       "        vertical-align: top;\n",
       "    }\n",
       "\n",
       "    .dataframe thead th {\n",
       "        text-align: right;\n",
       "    }\n",
       "</style>\n",
       "<table border=\"1\" class=\"dataframe\">\n",
       "  <thead>\n",
       "    <tr style=\"text-align: right;\">\n",
       "      <th></th>\n",
       "      <th>user_id</th>\n",
       "      <th>actual</th>\n",
       "    </tr>\n",
       "  </thead>\n",
       "  <tbody>\n",
       "    <tr>\n",
       "      <th>0</th>\n",
       "      <td>1</td>\n",
       "      <td>[821867, 834484, 856942, 865456, 889248, 90795...</td>\n",
       "    </tr>\n",
       "    <tr>\n",
       "      <th>1</th>\n",
       "      <td>3</td>\n",
       "      <td>[835476, 851057, 872021, 878302, 879948, 90963...</td>\n",
       "    </tr>\n",
       "  </tbody>\n",
       "</table>\n",
       "</div>"
      ],
      "text/plain": [
       "   user_id                                             actual\n",
       "0        1  [821867, 834484, 856942, 865456, 889248, 90795...\n",
       "1        3  [835476, 851057, 872021, 878302, 879948, 90963..."
      ]
     },
     "execution_count": 6,
     "metadata": {},
     "output_type": "execute_result"
    }
   ],
   "source": [
    "result = data_test.groupby('user_id')['item_id'].unique().reset_index()\n",
    "result.columns=['user_id', 'actual']\n",
    "result.head(2)"
   ]
  },
  {
   "cell_type": "code",
   "execution_count": 7,
   "metadata": {
    "scrolled": true
   },
   "outputs": [
    {
     "name": "stderr",
     "output_type": "stream",
     "text": [
      "C:\\Users\\Eugene\\anaconda3\\lib\\site-packages\\pandas\\core\\frame.py:3997: SettingWithCopyWarning: \n",
      "A value is trying to be set on a copy of a slice from a DataFrame\n",
      "\n",
      "See the caveats in the documentation: https://pandas.pydata.org/pandas-docs/stable/user_guide/indexing.html#returning-a-view-versus-a-copy\n",
      "  errors=errors,\n",
      "D:\\Auress\\Data_Science\\Python_for_DS\\Recommendation_systems\\src\\utils.py:12: SettingWithCopyWarning: \n",
      "A value is trying to be set on a copy of a slice from a DataFrame.\n",
      "Try using .loc[row_indexer,col_indexer] = value instead\n",
      "\n",
      "See the caveats in the documentation: https://pandas.pydata.org/pandas-docs/stable/user_guide/indexing.html#returning-a-view-versus-a-copy\n",
      "  data['usd_per_unit'] = data['sales_value'] / data['quantity']\n"
     ]
    },
    {
     "name": "stdout",
     "output_type": "stream",
     "text": [
      "Decreased # items from 86865 to 5000\n"
     ]
    }
   ],
   "source": [
    "n_items_before = data_train['item_id'].nunique()\n",
    "\n",
    "data_train = prefilter_items(data_train, take_n_popular=5000)\n",
    "\n",
    "n_items_after = data_train['item_id'].nunique()\n",
    "print('Decreased # items from {} to {}'.format(n_items_before, n_items_after))"
   ]
  },
  {
   "cell_type": "code",
   "execution_count": 8,
   "metadata": {},
   "outputs": [
    {
     "data": {
      "text/html": [
       "<div>\n",
       "<style scoped>\n",
       "    .dataframe tbody tr th:only-of-type {\n",
       "        vertical-align: middle;\n",
       "    }\n",
       "\n",
       "    .dataframe tbody tr th {\n",
       "        vertical-align: top;\n",
       "    }\n",
       "\n",
       "    .dataframe thead th {\n",
       "        text-align: right;\n",
       "    }\n",
       "</style>\n",
       "<table border=\"1\" class=\"dataframe\">\n",
       "  <thead>\n",
       "    <tr style=\"text-align: right;\">\n",
       "      <th>item_id</th>\n",
       "      <th>818981</th>\n",
       "      <th>819063</th>\n",
       "      <th>819112</th>\n",
       "      <th>819255</th>\n",
       "      <th>819304</th>\n",
       "      <th>819308</th>\n",
       "      <th>819330</th>\n",
       "      <th>819518</th>\n",
       "      <th>819594</th>\n",
       "      <th>819765</th>\n",
       "      <th>...</th>\n",
       "      <th>15717057</th>\n",
       "      <th>15741861</th>\n",
       "      <th>15742123</th>\n",
       "      <th>15831255</th>\n",
       "      <th>15926712</th>\n",
       "      <th>15926775</th>\n",
       "      <th>15926844</th>\n",
       "      <th>15926886</th>\n",
       "      <th>15926927</th>\n",
       "      <th>17105257</th>\n",
       "    </tr>\n",
       "    <tr>\n",
       "      <th>user_id</th>\n",
       "      <th></th>\n",
       "      <th></th>\n",
       "      <th></th>\n",
       "      <th></th>\n",
       "      <th></th>\n",
       "      <th></th>\n",
       "      <th></th>\n",
       "      <th></th>\n",
       "      <th></th>\n",
       "      <th></th>\n",
       "      <th></th>\n",
       "      <th></th>\n",
       "      <th></th>\n",
       "      <th></th>\n",
       "      <th></th>\n",
       "      <th></th>\n",
       "      <th></th>\n",
       "      <th></th>\n",
       "      <th></th>\n",
       "      <th></th>\n",
       "      <th></th>\n",
       "    </tr>\n",
       "  </thead>\n",
       "  <tbody>\n",
       "    <tr>\n",
       "      <th>1</th>\n",
       "      <td>0.0</td>\n",
       "      <td>0.0</td>\n",
       "      <td>0.0</td>\n",
       "      <td>0.0</td>\n",
       "      <td>0.0</td>\n",
       "      <td>0.0</td>\n",
       "      <td>0.0</td>\n",
       "      <td>0.0</td>\n",
       "      <td>0.0</td>\n",
       "      <td>0.0</td>\n",
       "      <td>...</td>\n",
       "      <td>0.0</td>\n",
       "      <td>0.0</td>\n",
       "      <td>0.0</td>\n",
       "      <td>0.0</td>\n",
       "      <td>0.0</td>\n",
       "      <td>0.0</td>\n",
       "      <td>1.0</td>\n",
       "      <td>0.0</td>\n",
       "      <td>2.0</td>\n",
       "      <td>0.0</td>\n",
       "    </tr>\n",
       "    <tr>\n",
       "      <th>2</th>\n",
       "      <td>0.0</td>\n",
       "      <td>0.0</td>\n",
       "      <td>0.0</td>\n",
       "      <td>0.0</td>\n",
       "      <td>0.0</td>\n",
       "      <td>0.0</td>\n",
       "      <td>0.0</td>\n",
       "      <td>0.0</td>\n",
       "      <td>0.0</td>\n",
       "      <td>0.0</td>\n",
       "      <td>...</td>\n",
       "      <td>0.0</td>\n",
       "      <td>0.0</td>\n",
       "      <td>0.0</td>\n",
       "      <td>0.0</td>\n",
       "      <td>0.0</td>\n",
       "      <td>0.0</td>\n",
       "      <td>0.0</td>\n",
       "      <td>0.0</td>\n",
       "      <td>0.0</td>\n",
       "      <td>0.0</td>\n",
       "    </tr>\n",
       "    <tr>\n",
       "      <th>3</th>\n",
       "      <td>0.0</td>\n",
       "      <td>0.0</td>\n",
       "      <td>0.0</td>\n",
       "      <td>1.0</td>\n",
       "      <td>0.0</td>\n",
       "      <td>0.0</td>\n",
       "      <td>0.0</td>\n",
       "      <td>0.0</td>\n",
       "      <td>0.0</td>\n",
       "      <td>0.0</td>\n",
       "      <td>...</td>\n",
       "      <td>0.0</td>\n",
       "      <td>1.0</td>\n",
       "      <td>0.0</td>\n",
       "      <td>0.0</td>\n",
       "      <td>0.0</td>\n",
       "      <td>0.0</td>\n",
       "      <td>0.0</td>\n",
       "      <td>0.0</td>\n",
       "      <td>0.0</td>\n",
       "      <td>0.0</td>\n",
       "    </tr>\n",
       "  </tbody>\n",
       "</table>\n",
       "<p>3 rows × 5000 columns</p>\n",
       "</div>"
      ],
      "text/plain": [
       "item_id  818981    819063    819112    819255    819304    819308    819330    \\\n",
       "user_id                                                                         \n",
       "1             0.0       0.0       0.0       0.0       0.0       0.0       0.0   \n",
       "2             0.0       0.0       0.0       0.0       0.0       0.0       0.0   \n",
       "3             0.0       0.0       0.0       1.0       0.0       0.0       0.0   \n",
       "\n",
       "item_id  819518    819594    819765    ...  15717057  15741861  15742123  \\\n",
       "user_id                                ...                                 \n",
       "1             0.0       0.0       0.0  ...       0.0       0.0       0.0   \n",
       "2             0.0       0.0       0.0  ...       0.0       0.0       0.0   \n",
       "3             0.0       0.0       0.0  ...       0.0       1.0       0.0   \n",
       "\n",
       "item_id  15831255  15926712  15926775  15926844  15926886  15926927  17105257  \n",
       "user_id                                                                        \n",
       "1             0.0       0.0       0.0       1.0       0.0       2.0       0.0  \n",
       "2             0.0       0.0       0.0       0.0       0.0       0.0       0.0  \n",
       "3             0.0       0.0       0.0       0.0       0.0       0.0       0.0  \n",
       "\n",
       "[3 rows x 5000 columns]"
      ]
     },
     "execution_count": 8,
     "metadata": {},
     "output_type": "execute_result"
    }
   ],
   "source": [
    "user_item_matrix = pd.pivot_table(data_train, \n",
    "                                  index='user_id', columns='item_id', \n",
    "                                  values='quantity', # Можно пробоват ьдругие варианты\n",
    "                                  aggfunc='count', \n",
    "                                  fill_value=0\n",
    "                                 )\n",
    "\n",
    "user_item_matrix = user_item_matrix.astype(float) # необходимый тип матрицы для implicit\n",
    "\n",
    "user_item_matrix.head(3)"
   ]
  },
  {
   "cell_type": "code",
   "execution_count": 9,
   "metadata": {},
   "outputs": [],
   "source": [
    "userids = user_item_matrix.index.values\n",
    "itemids = user_item_matrix.columns.values\n",
    "\n",
    "matrix_userids = np.arange(len(userids))\n",
    "matrix_itemids = np.arange(len(itemids))\n",
    "\n",
    "id_to_itemid = dict(zip(matrix_itemids, itemids))\n",
    "id_to_userid = dict(zip(matrix_userids, userids))\n",
    "\n",
    "itemid_to_id = dict(zip(itemids, matrix_itemids))\n",
    "userid_to_id = dict(zip(userids, matrix_userids))"
   ]
  },
  {
   "cell_type": "code",
   "execution_count": 10,
   "metadata": {},
   "outputs": [],
   "source": [
    "user_item_matrix = bm25_weight(user_item_matrix.T).T  # Применяется к item-user матрице ! "
   ]
  },
  {
   "cell_type": "code",
   "execution_count": 11,
   "metadata": {},
   "outputs": [
    {
     "name": "stderr",
     "output_type": "stream",
     "text": [
      "WARNING:root:Intel MKL BLAS detected. Its highly recommend to set the environment variable 'export MKL_NUM_THREADS=1' to disable its internal multithreading\n"
     ]
    },
    {
     "data": {
      "application/vnd.jupyter.widget-view+json": {
       "model_id": "2529b52e773c43d7ae28d0f6b2fb82f1",
       "version_major": 2,
       "version_minor": 0
      },
      "text/plain": [
       "HBox(children=(FloatProgress(value=0.0, max=15.0), HTML(value='')))"
      ]
     },
     "metadata": {},
     "output_type": "display_data"
    },
    {
     "name": "stdout",
     "output_type": "stream",
     "text": [
      "\n",
      "Wall time: 1.72 s\n"
     ]
    }
   ],
   "source": [
    "%%time\n",
    "\n",
    "model = AlternatingLeastSquares(factors=20, \n",
    "                                regularization=0.001,\n",
    "                                iterations=15, \n",
    "                                calculate_training_loss=True, \n",
    "                                num_threads=4)\n",
    "\n",
    "model.fit(csr_matrix(user_item_matrix).T.tocsr(),  # На вход item-user matrix\n",
    "          show_progress=True)"
   ]
  },
  {
   "cell_type": "markdown",
   "metadata": {},
   "source": [
    "-----"
   ]
  },
  {
   "cell_type": "markdown",
   "metadata": {},
   "source": [
    "# Домашнее задание"
   ]
  },
  {
   "cell_type": "markdown",
   "metadata": {},
   "source": [
    "1. Перенесите метрики из ДЗ 1 src/metrics.py\n",
    "3. Создайте модуль src/recommenders.py. Напищите код для класса ниже \n",
    "(задание обсуждали на вебинаре, для первой функции практически сделали) и положите его в src/recommenders.py\n",
    "4. Проверьте, что все модули корректно импортируются"
   ]
  },
  {
   "cell_type": "markdown",
   "metadata": {},
   "source": [
    "Выполнение: сохранены  \n",
    "    src/utils.py  \n",
    "    src/metrics.py  \n",
    "    src/recommenders.py  \n",
    "И так же загружены на GitHub вместе с этим файлом    "
   ]
  },
  {
   "cell_type": "code",
   "execution_count": 12,
   "metadata": {},
   "outputs": [],
   "source": [
    "import pandas as pd\n",
    "import numpy as np\n",
    "\n",
    "# Для работы с матрицами\n",
    "from scipy.sparse import csr_matrix\n",
    "\n",
    "# Матричная факторизация\n",
    "from implicit.als import AlternatingLeastSquares\n",
    "from implicit.nearest_neighbours import ItemItemRecommender  # нужен для одного трюка\n",
    "from implicit.nearest_neighbours import bm25_weight, tfidf_weight"
   ]
  },
  {
   "cell_type": "code",
   "execution_count": 13,
   "metadata": {},
   "outputs": [
    {
     "data": {
      "text/plain": [
       "'\\nclass MainRecommender:\\n    \"\"\"Рекоммендации, которые можно получить из ALS\\n\\n    Input\\n    -----\\n    user_item_matrix: pd.DataFrame\\n        Матрица взаимодействий user-item\\n    \"\"\"\\n\\n    # data = pd.read_csv(\\'../data/retail_train.csv\\')\\n    # item_features = pd.read_csv(\\'../data/product.csv\\')\\n\\n    def __init__(self, data, item_features, weighting=True):\\n\\n        # Топ покупок каждого юзера\\n        self.top_purchases = data.groupby([\\'user_id\\', \\'item_id\\'])[\\'quantity\\'].count().reset_index()\\n        self.top_purchases.sort_values(\\'quantity\\', ascending=False, inplace=True)\\n        self.top_purchases = self.top_purchases[self.top_purchases[\\'item_id\\'] != 999999]\\n\\n        # Топ покупок по всему датасету\\n        self.overall_top_purchases = data.groupby(\\'item_id\\')[\\'quantity\\'].count().reset_index()\\n        self.overall_top_purchases.sort_values(\\'quantity\\', ascending=False, inplace=True)\\n        self.overall_top_purchases = self.overall_top_purchases[self.overall_top_purchases[\\'item_id\\'] != 999999]\\n        self.overall_top_purchases = self.overall_top_purchases.item_id.tolist()\\n\\n        self.user_item_matrix = self.prepare_matrix(data)  # pd.DataFrame\\n        self.id_to_itemid, self.id_to_userid, self.itemid_to_id, self.userid_to_id = self.prepare_dicts(self.user_item_matrix)\\n\\n        # Словарь {item_id: 0/1}. 0/1 - факт принадлежности товара к СТМ\\n        self.item_id_to_ctm = dict(zip(item_features[\\'item_id\\'], item_features[\\'brand\\'].isin([\\'Private\\']).astype(int)))\\n\\n        # Own recommender обучается до взвешивания матрицы\\n        self.own_recommender = self.fit_own_recommender(self.user_item_matrix)\\n\\n        if weighting:\\n            self.user_item_matrix = bm25_weight(self.user_item_matrix.T).T\\n\\n        self.model = self.fit(self.user_item_matrix)\\n\\n    @staticmethod\\n    def prepare_matrix(data, val=\\'quantity\\'):\\n\\n        user_item_matrix = pd.pivot_table(data,\\n                                          index=\\'user_id\\', columns=\\'item_id\\',\\n                                          values=val,  # Можно пробовать другие варианты\\n                                          aggfunc=\\'count\\',\\n                                          fill_value=0\\n                                          )\\n\\n        user_item_matrix = user_item_matrix.astype(float)  # необходимый тип матрицы для implicit\\n\\n        return user_item_matrix\\n\\n    @staticmethod\\n    def prepare_dicts(user_item_matrix):\\n        \"\"\"Подготавливает вспомогательные словари\"\"\"\\n\\n        userids = user_item_matrix.index.values\\n        itemids = user_item_matrix.columns.values\\n\\n        matrix_userids = np.arange(len(userids))\\n        matrix_itemids = np.arange(len(itemids))\\n\\n        id_to_itemid = dict(zip(matrix_itemids, itemids))\\n        id_to_userid = dict(zip(matrix_userids, userids))\\n\\n        itemid_to_id = dict(zip(itemids, matrix_itemids))\\n        userid_to_id = dict(zip(userids, matrix_userids))\\n\\n        return id_to_itemid, id_to_userid, itemid_to_id, userid_to_id\\n\\n    @staticmethod\\n    def fit_own_recommender(user_item_matrix):\\n        \"\"\"Обучает модель, которая рекомендует товары, среди товаров, купленных юзером\"\"\"\\n\\n        own_recommender = ItemItemRecommender(K=1, num_threads=4)\\n        own_recommender.fit(csr_matrix(user_item_matrix).T.tocsr())\\n\\n        return own_recommender\\n\\n    @staticmethod\\n    def fit(user_item_matrix, n_factors=20, regularization=0.001, iterations=15, num_threads=4):\\n        \"\"\"Обучает ALS\"\"\"\\n\\n        model = AlternatingLeastSquares(factors=n_factors,\\n                                        regularization=regularization,\\n                                        iterations=iterations,\\n                                        num_threads=num_threads)\\n\\n        model.fit(csr_matrix(user_item_matrix).T.tocsr())\\n\\n        return model\\n\\n    def get_similar_items_recommendation(self, user, filter_ctm=True, N=5):\\n        \"\"\"Рекомендуем товары, похожие на топ-N купленных юзером товаров\"\"\"\\n\\n        rec_model = self.model.similar_items(self.itemid_to_id[user], N=N)\\n        recs = [x[0] for x in rec_model][1:]  # получаем список рекомендаций\\n        rec_to_itemid = [self.id_to_itemid[x] for x in recs]  # переводим в изначальные id\\n\\n        if filter_ctm:\\n            ctm_list = [self.item_id_to_ctm[x] for x in rec_to_itemid]  # Список является или нет товар СТМ\\n\\n            try:\\n                idx = ctm_list.index(1)  # Берем первый товар СТМ\\n            except ValueError:\\n                idx = 0  # либо просто первый, если СТМ в списке не оказалось\\n        else:\\n            idx = 0\\n\\n        res = rec_to_itemid[idx]\\n\\n        return res\\n\\n    def get_similar_users_recommendation(self, user, N_users=5, N_items_per_user=5, N=5):\\n        \"\"\"Рекомендуем топ-N товаров, среди купленных похожими юзерами\"\"\"\\n\\n        rec_model_users = self.model.similar_users(self.userid_to_id[user], N=N_users+1)\\n        recs_users = [x[0] for x in rec_model_users][1:]  # получаем список Юзеров\\n\\n        total_recs = []\\n        for similar_user in recs_users:\\n            own = ItemItemRecommender(K=1, num_threads=4)  # K - кол-во билжайших соседей\\n            own.fit(csr_matrix(self.user_item_matrix).T.tocsr())\\n\\n            recs = own.recommend(userid=self.userid_to_id[similar_user],  # Находим купленые ими товары\\n                                     user_items=csr_matrix(self.user_item_matrix).tocsr(),  # на вход user-item matrix\\n                                     N=N_items_per_user,\\n                                     filter_already_liked_items=False,\\n                                     filter_items=None,\\n                                     recalculate_user=False)\\n            total_recs.append(recs)\\n\\n        total_recs = [item for sublist in total_recs for item in sublist]  # делаем общий список товаров\\n        total_recs = sorted(total_recs, key=lambda l: l[1], reverse=True)  # выбираем товары с большим мкором\\n\\n        res = [self.id_to_itemid[x[0]] for x in total_recs][:N]  # берем нужное кол-во и переводим в изначальные id\\n\\n        return res\\n    '"
      ]
     },
     "execution_count": 13,
     "metadata": {},
     "output_type": "execute_result"
    }
   ],
   "source": [
    "# Сохранено в src/recommenders.py \n",
    "'''\n",
    "class MainRecommender:\n",
    "    \"\"\"Рекоммендации, которые можно получить из ALS\n",
    "\n",
    "    Input\n",
    "    -----\n",
    "    user_item_matrix: pd.DataFrame\n",
    "        Матрица взаимодействий user-item\n",
    "    \"\"\"\n",
    "\n",
    "    # data = pd.read_csv('../data/retail_train.csv')\n",
    "    # item_features = pd.read_csv('../data/product.csv')\n",
    "\n",
    "    def __init__(self, data, item_features, weighting=True):\n",
    "\n",
    "        # Топ покупок каждого юзера\n",
    "        self.top_purchases = data.groupby(['user_id', 'item_id'])['quantity'].count().reset_index()\n",
    "        self.top_purchases.sort_values('quantity', ascending=False, inplace=True)\n",
    "        self.top_purchases = self.top_purchases[self.top_purchases['item_id'] != 999999]\n",
    "\n",
    "        # Топ покупок по всему датасету\n",
    "        self.overall_top_purchases = data.groupby('item_id')['quantity'].count().reset_index()\n",
    "        self.overall_top_purchases.sort_values('quantity', ascending=False, inplace=True)\n",
    "        self.overall_top_purchases = self.overall_top_purchases[self.overall_top_purchases['item_id'] != 999999]\n",
    "        self.overall_top_purchases = self.overall_top_purchases.item_id.tolist()\n",
    "\n",
    "        self.user_item_matrix = self.prepare_matrix(data)  # pd.DataFrame\n",
    "        self.id_to_itemid, self.id_to_userid, self.itemid_to_id, self.userid_to_id = self.prepare_dicts(self.user_item_matrix)\n",
    "\n",
    "        # Словарь {item_id: 0/1}. 0/1 - факт принадлежности товара к СТМ\n",
    "        self.item_id_to_ctm = dict(zip(item_features['item_id'], item_features['brand'].isin(['Private']).astype(int)))\n",
    "\n",
    "        # Own recommender обучается до взвешивания матрицы\n",
    "        self.own_recommender = self.fit_own_recommender(self.user_item_matrix)\n",
    "\n",
    "        if weighting:\n",
    "            self.user_item_matrix = bm25_weight(self.user_item_matrix.T).T\n",
    "\n",
    "        self.model = self.fit(self.user_item_matrix)\n",
    "\n",
    "    @staticmethod\n",
    "    def prepare_matrix(data, val='quantity'):\n",
    "\n",
    "        user_item_matrix = pd.pivot_table(data,\n",
    "                                          index='user_id', columns='item_id',\n",
    "                                          values=val,  # Можно пробовать другие варианты\n",
    "                                          aggfunc='count',\n",
    "                                          fill_value=0\n",
    "                                          )\n",
    "\n",
    "        user_item_matrix = user_item_matrix.astype(float)  # необходимый тип матрицы для implicit\n",
    "\n",
    "        return user_item_matrix\n",
    "\n",
    "    @staticmethod\n",
    "    def prepare_dicts(user_item_matrix):\n",
    "        \"\"\"Подготавливает вспомогательные словари\"\"\"\n",
    "\n",
    "        userids = user_item_matrix.index.values\n",
    "        itemids = user_item_matrix.columns.values\n",
    "\n",
    "        matrix_userids = np.arange(len(userids))\n",
    "        matrix_itemids = np.arange(len(itemids))\n",
    "\n",
    "        id_to_itemid = dict(zip(matrix_itemids, itemids))\n",
    "        id_to_userid = dict(zip(matrix_userids, userids))\n",
    "\n",
    "        itemid_to_id = dict(zip(itemids, matrix_itemids))\n",
    "        userid_to_id = dict(zip(userids, matrix_userids))\n",
    "\n",
    "        return id_to_itemid, id_to_userid, itemid_to_id, userid_to_id\n",
    "\n",
    "    @staticmethod\n",
    "    def fit_own_recommender(user_item_matrix):\n",
    "        \"\"\"Обучает модель, которая рекомендует товары, среди товаров, купленных юзером\"\"\"\n",
    "\n",
    "        own_recommender = ItemItemRecommender(K=1, num_threads=4)\n",
    "        own_recommender.fit(csr_matrix(user_item_matrix).T.tocsr())\n",
    "\n",
    "        return own_recommender\n",
    "\n",
    "    @staticmethod\n",
    "    def fit(user_item_matrix, n_factors=20, regularization=0.001, iterations=15, num_threads=4):\n",
    "        \"\"\"Обучает ALS\"\"\"\n",
    "\n",
    "        model = AlternatingLeastSquares(factors=n_factors,\n",
    "                                        regularization=regularization,\n",
    "                                        iterations=iterations,\n",
    "                                        num_threads=num_threads)\n",
    "\n",
    "        model.fit(csr_matrix(user_item_matrix).T.tocsr())\n",
    "\n",
    "        return model\n",
    "\n",
    "    def get_similar_items_recommendation(self, user, filter_ctm=True, N=5):\n",
    "        \"\"\"Рекомендуем товары, похожие на топ-N купленных юзером товаров\"\"\"\n",
    "\n",
    "        rec_model = self.model.similar_items(self.itemid_to_id[user], N=N)\n",
    "        recs = [x[0] for x in rec_model][1:]  # получаем список рекомендаций\n",
    "        rec_to_itemid = [self.id_to_itemid[x] for x in recs]  # переводим в изначальные id\n",
    "\n",
    "        if filter_ctm:\n",
    "            ctm_list = [self.item_id_to_ctm[x] for x in rec_to_itemid]  # Список является или нет товар СТМ\n",
    "\n",
    "            try:\n",
    "                idx = ctm_list.index(1)  # Берем первый товар СТМ\n",
    "            except ValueError:\n",
    "                idx = 0  # либо просто первый, если СТМ в списке не оказалось\n",
    "        else:\n",
    "            idx = 0\n",
    "\n",
    "        res = rec_to_itemid[idx]\n",
    "\n",
    "        return res\n",
    "\n",
    "    def get_similar_users_recommendation(self, user, N_users=5, N_items_per_user=5, N=5):\n",
    "        \"\"\"Рекомендуем топ-N товаров, среди купленных похожими юзерами\"\"\"\n",
    "\n",
    "        rec_model_users = self.model.similar_users(self.userid_to_id[user], N=N_users+1)\n",
    "        recs_users = [x[0] for x in rec_model_users][1:]  # получаем список Юзеров\n",
    "\n",
    "        total_recs = []\n",
    "        for similar_user in recs_users:\n",
    "            own = ItemItemRecommender(K=1, num_threads=4)  # K - кол-во билжайших соседей\n",
    "            own.fit(csr_matrix(self.user_item_matrix).T.tocsr())\n",
    "\n",
    "            recs = own.recommend(userid=self.userid_to_id[similar_user],  # Находим купленые ими товары\n",
    "                                     user_items=csr_matrix(self.user_item_matrix).tocsr(),  # на вход user-item matrix\n",
    "                                     N=N_items_per_user,\n",
    "                                     filter_already_liked_items=False,\n",
    "                                     filter_items=None,\n",
    "                                     recalculate_user=False)\n",
    "            total_recs.append(recs)\n",
    "\n",
    "        total_recs = [item for sublist in total_recs for item in sublist]  # делаем общий список товаров\n",
    "        total_recs = sorted(total_recs, key=lambda l: l[1], reverse=True)  # выбираем товары с большим мкором\n",
    "\n",
    "        res = [self.id_to_itemid[x[0]] for x in total_recs][:N]  # берем нужное кол-во и переводим в изначальные id\n",
    "\n",
    "        return res\n",
    "    '''"
   ]
  },
  {
   "cell_type": "markdown",
   "metadata": {},
   "source": [
    "----"
   ]
  },
  {
   "cell_type": "markdown",
   "metadata": {},
   "source": [
    "Проверка, что все работает"
   ]
  },
  {
   "cell_type": "code",
   "execution_count": 14,
   "metadata": {},
   "outputs": [],
   "source": [
    "from src.metrics import precision_at_k, recall_at_k\n",
    "from src.utils import prefilter_items\n",
    "from src.recommenders import MainRecommender"
   ]
  },
  {
   "cell_type": "code",
   "execution_count": 15,
   "metadata": {},
   "outputs": [
    {
     "data": {
      "text/html": [
       "<div>\n",
       "<style scoped>\n",
       "    .dataframe tbody tr th:only-of-type {\n",
       "        vertical-align: middle;\n",
       "    }\n",
       "\n",
       "    .dataframe tbody tr th {\n",
       "        vertical-align: top;\n",
       "    }\n",
       "\n",
       "    .dataframe thead th {\n",
       "        text-align: right;\n",
       "    }\n",
       "</style>\n",
       "<table border=\"1\" class=\"dataframe\">\n",
       "  <thead>\n",
       "    <tr style=\"text-align: right;\">\n",
       "      <th></th>\n",
       "      <th>user_id</th>\n",
       "      <th>item_id</th>\n",
       "      <th>quantity</th>\n",
       "    </tr>\n",
       "  </thead>\n",
       "  <tbody>\n",
       "    <tr>\n",
       "      <th>406028</th>\n",
       "      <td>2500</td>\n",
       "      <td>859237</td>\n",
       "      <td>16</td>\n",
       "    </tr>\n",
       "    <tr>\n",
       "      <th>406112</th>\n",
       "      <td>2500</td>\n",
       "      <td>974108</td>\n",
       "      <td>5</td>\n",
       "    </tr>\n",
       "  </tbody>\n",
       "</table>\n",
       "</div>"
      ],
      "text/plain": [
       "        user_id  item_id  quantity\n",
       "406028     2500   859237        16\n",
       "406112     2500   974108         5"
      ]
     },
     "execution_count": 15,
     "metadata": {},
     "output_type": "execute_result"
    }
   ],
   "source": [
    "ctm = item_features[item_features['brand'] == 'Private'].item_id.unique() # СТМ = товары под брендом Private\n",
    "\n",
    "popularity = data_train[~data_train['item_id'].isin(ctm)].groupby(['user_id', 'item_id'])['quantity'].count().reset_index()\n",
    "popularity.sort_values('quantity', ascending=False, inplace=True)\n",
    "\n",
    "popularity = popularity[popularity['item_id'] != 999999]\n",
    "\n",
    "popularity = popularity.groupby('user_id').head(5)\n",
    "\n",
    "popularity.sort_values('user_id', ascending=False, inplace=True)\n",
    "popularity.head(2)"
   ]
  },
  {
   "cell_type": "code",
   "execution_count": 16,
   "metadata": {},
   "outputs": [
    {
     "data": {
      "application/vnd.jupyter.widget-view+json": {
       "model_id": "7a6c8f35a8e84467be2ae94e95613547",
       "version_major": 2,
       "version_minor": 0
      },
      "text/plain": [
       "HBox(children=(FloatProgress(value=0.0, max=5000.0), HTML(value='')))"
      ]
     },
     "metadata": {},
     "output_type": "display_data"
    },
    {
     "name": "stdout",
     "output_type": "stream",
     "text": [
      "\n"
     ]
    },
    {
     "data": {
      "application/vnd.jupyter.widget-view+json": {
       "model_id": "7d37db0b551e4383bf35d40a202adf2c",
       "version_major": 2,
       "version_minor": 0
      },
      "text/plain": [
       "HBox(children=(FloatProgress(value=0.0, max=15.0), HTML(value='')))"
      ]
     },
     "metadata": {},
     "output_type": "display_data"
    },
    {
     "name": "stdout",
     "output_type": "stream",
     "text": [
      "\n"
     ]
    }
   ],
   "source": [
    "mr = MainRecommender(data_train, item_features, weighting=True)"
   ]
  },
  {
   "cell_type": "code",
   "execution_count": 17,
   "metadata": {},
   "outputs": [
    {
     "data": {
      "text/html": [
       "<div>\n",
       "<style scoped>\n",
       "    .dataframe tbody tr th:only-of-type {\n",
       "        vertical-align: middle;\n",
       "    }\n",
       "\n",
       "    .dataframe tbody tr th {\n",
       "        vertical-align: top;\n",
       "    }\n",
       "\n",
       "    .dataframe thead th {\n",
       "        text-align: right;\n",
       "    }\n",
       "</style>\n",
       "<table border=\"1\" class=\"dataframe\">\n",
       "  <thead>\n",
       "    <tr style=\"text-align: right;\">\n",
       "      <th></th>\n",
       "      <th>user_id</th>\n",
       "      <th>item_id</th>\n",
       "      <th>quantity</th>\n",
       "      <th>similar_recommendation</th>\n",
       "    </tr>\n",
       "  </thead>\n",
       "  <tbody>\n",
       "    <tr>\n",
       "      <th>406028</th>\n",
       "      <td>2500</td>\n",
       "      <td>859237</td>\n",
       "      <td>16</td>\n",
       "      <td>991951</td>\n",
       "    </tr>\n",
       "    <tr>\n",
       "      <th>406112</th>\n",
       "      <td>2500</td>\n",
       "      <td>974108</td>\n",
       "      <td>5</td>\n",
       "      <td>15596279</td>\n",
       "    </tr>\n",
       "    <tr>\n",
       "      <th>406168</th>\n",
       "      <td>2500</td>\n",
       "      <td>1063739</td>\n",
       "      <td>8</td>\n",
       "      <td>1010051</td>\n",
       "    </tr>\n",
       "    <tr>\n",
       "      <th>406170</th>\n",
       "      <td>2500</td>\n",
       "      <td>1065538</td>\n",
       "      <td>10</td>\n",
       "      <td>1034176</td>\n",
       "    </tr>\n",
       "    <tr>\n",
       "      <th>406232</th>\n",
       "      <td>2500</td>\n",
       "      <td>6534030</td>\n",
       "      <td>6</td>\n",
       "      <td>6533608</td>\n",
       "    </tr>\n",
       "  </tbody>\n",
       "</table>\n",
       "</div>"
      ],
      "text/plain": [
       "        user_id  item_id  quantity  similar_recommendation\n",
       "406028     2500   859237        16                  991951\n",
       "406112     2500   974108         5                15596279\n",
       "406168     2500  1063739         8                 1010051\n",
       "406170     2500  1065538        10                 1034176\n",
       "406232     2500  6534030         6                 6533608"
      ]
     },
     "execution_count": 17,
     "metadata": {},
     "output_type": "execute_result"
    }
   ],
   "source": [
    "popularity['similar_recommendation'] = popularity['item_id'].apply(lambda x: MainRecommender.get_similar_items_recommendation(self=mr, user=x, filter_ctm=False, N=5))\n",
    "popularity.head(5)"
   ]
  },
  {
   "cell_type": "code",
   "execution_count": 18,
   "metadata": {},
   "outputs": [
    {
     "data": {
      "text/html": [
       "<div>\n",
       "<style scoped>\n",
       "    .dataframe tbody tr th:only-of-type {\n",
       "        vertical-align: middle;\n",
       "    }\n",
       "\n",
       "    .dataframe tbody tr th {\n",
       "        vertical-align: top;\n",
       "    }\n",
       "\n",
       "    .dataframe thead th {\n",
       "        text-align: right;\n",
       "    }\n",
       "</style>\n",
       "<table border=\"1\" class=\"dataframe\">\n",
       "  <thead>\n",
       "    <tr style=\"text-align: right;\">\n",
       "      <th></th>\n",
       "      <th>user_id</th>\n",
       "      <th>item_id</th>\n",
       "      <th>quantity</th>\n",
       "      <th>similar_recommendation</th>\n",
       "    </tr>\n",
       "  </thead>\n",
       "  <tbody>\n",
       "    <tr>\n",
       "      <th>406028</th>\n",
       "      <td>2500</td>\n",
       "      <td>859237</td>\n",
       "      <td>16</td>\n",
       "      <td>991951</td>\n",
       "    </tr>\n",
       "    <tr>\n",
       "      <th>406112</th>\n",
       "      <td>2500</td>\n",
       "      <td>974108</td>\n",
       "      <td>5</td>\n",
       "      <td>995242</td>\n",
       "    </tr>\n",
       "    <tr>\n",
       "      <th>406168</th>\n",
       "      <td>2500</td>\n",
       "      <td>1063739</td>\n",
       "      <td>8</td>\n",
       "      <td>1135044</td>\n",
       "    </tr>\n",
       "    <tr>\n",
       "      <th>406170</th>\n",
       "      <td>2500</td>\n",
       "      <td>1065538</td>\n",
       "      <td>10</td>\n",
       "      <td>1034176</td>\n",
       "    </tr>\n",
       "    <tr>\n",
       "      <th>406232</th>\n",
       "      <td>2500</td>\n",
       "      <td>6534030</td>\n",
       "      <td>6</td>\n",
       "      <td>6533608</td>\n",
       "    </tr>\n",
       "  </tbody>\n",
       "</table>\n",
       "</div>"
      ],
      "text/plain": [
       "        user_id  item_id  quantity  similar_recommendation\n",
       "406028     2500   859237        16                  991951\n",
       "406112     2500   974108         5                  995242\n",
       "406168     2500  1063739         8                 1135044\n",
       "406170     2500  1065538        10                 1034176\n",
       "406232     2500  6534030         6                 6533608"
      ]
     },
     "execution_count": 18,
     "metadata": {},
     "output_type": "execute_result"
    }
   ],
   "source": [
    "popularity['similar_recommendation'] = popularity['item_id'].apply(lambda x: MainRecommender.get_similar_items_recommendation(self=mr, user=x, filter_ctm=True, N=5))\n",
    "popularity.head(5)"
   ]
  },
  {
   "cell_type": "code",
   "execution_count": 19,
   "metadata": {},
   "outputs": [
    {
     "data": {
      "application/vnd.jupyter.widget-view+json": {
       "model_id": "a7330d9a613f4befb957da245f7577e9",
       "version_major": 2,
       "version_minor": 0
      },
      "text/plain": [
       "HBox(children=(FloatProgress(value=0.0, max=5000.0), HTML(value='')))"
      ]
     },
     "metadata": {},
     "output_type": "display_data"
    },
    {
     "name": "stdout",
     "output_type": "stream",
     "text": [
      "\n"
     ]
    },
    {
     "data": {
      "application/vnd.jupyter.widget-view+json": {
       "model_id": "b1495d8f37e14ff9b8d475273739f791",
       "version_major": 2,
       "version_minor": 0
      },
      "text/plain": [
       "HBox(children=(FloatProgress(value=0.0, max=5000.0), HTML(value='')))"
      ]
     },
     "metadata": {},
     "output_type": "display_data"
    },
    {
     "name": "stdout",
     "output_type": "stream",
     "text": [
      "\n"
     ]
    },
    {
     "data": {
      "text/plain": [
       "[835578, 1030093, 1115069, 6979579, 820486]"
      ]
     },
     "execution_count": 19,
     "metadata": {},
     "output_type": "execute_result"
    }
   ],
   "source": [
    "user = 2500\n",
    "MainRecommender.get_similar_users_recommendation(self=mr, user=user, N_users=2, N_items_per_user=5, N=5)"
   ]
  },
  {
   "cell_type": "code",
   "execution_count": null,
   "metadata": {},
   "outputs": [],
   "source": []
  }
 ],
 "metadata": {
  "kernelspec": {
   "display_name": "Python 3",
   "language": "python",
   "name": "python3"
  },
  "language_info": {
   "codemirror_mode": {
    "name": "ipython",
    "version": 3
   },
   "file_extension": ".py",
   "mimetype": "text/x-python",
   "name": "python",
   "nbconvert_exporter": "python",
   "pygments_lexer": "ipython3",
   "version": "3.7.7"
  }
 },
 "nbformat": 4,
 "nbformat_minor": 2
}
