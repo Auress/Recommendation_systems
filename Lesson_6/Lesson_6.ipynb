{
 "cells": [
  {
   "cell_type": "markdown",
   "metadata": {},
   "source": [
    "### Урок 6. Двухуровневые модели рекомендаций"
   ]
  },
  {
   "cell_type": "markdown",
   "metadata": {},
   "source": [
    "### -- Автор: Шенк Евгений Станиславович"
   ]
  },
  {
   "cell_type": "markdown",
   "metadata": {},
   "source": [
    "# Вебинар 6. Двухуровневые модели рекомендаций\n"
   ]
  },
  {
   "cell_type": "markdown",
   "metadata": {},
   "source": [
    "Код для src, utils, metrics вы можете скачать из [этого](https://github.com/geangohn/recsys-tutorial) github репозитория"
   ]
  },
  {
   "cell_type": "code",
   "execution_count": 1,
   "metadata": {},
   "outputs": [],
   "source": [
    "import pandas as pd\n",
    "import numpy as np\n",
    "import matplotlib.pyplot as plt\n",
    "%matplotlib inline\n",
    "\n",
    "# Для работы с матрицами\n",
    "from scipy.sparse import csr_matrix\n",
    "\n",
    "# Для категориальных переменных\n",
    "from sklearn.preprocessing import LabelEncoder\n",
    "\n",
    "# Матричная факторизация\n",
    "from implicit import als\n",
    "\n",
    "# Модель второго уровня\n",
    "from lightgbm import LGBMClassifier\n",
    "\n",
    "import os, sys\n",
    "module_path = os.path.abspath(os.path.join(os.pardir))\n",
    "if module_path not in sys.path:\n",
    "    sys.path.append(module_path)\n",
    "\n",
    "# Написанные нами функции\n",
    "from src.metrics import precision_at_k, recall_at_k\n",
    "from src.utils import prefilter_items\n",
    "from src.recommenders import MainRecommender"
   ]
  },
  {
   "cell_type": "code",
   "execution_count": 2,
   "metadata": {},
   "outputs": [
    {
     "data": {
      "text/html": [
       "<div>\n",
       "<style scoped>\n",
       "    .dataframe tbody tr th:only-of-type {\n",
       "        vertical-align: middle;\n",
       "    }\n",
       "\n",
       "    .dataframe tbody tr th {\n",
       "        vertical-align: top;\n",
       "    }\n",
       "\n",
       "    .dataframe thead th {\n",
       "        text-align: right;\n",
       "    }\n",
       "</style>\n",
       "<table border=\"1\" class=\"dataframe\">\n",
       "  <thead>\n",
       "    <tr style=\"text-align: right;\">\n",
       "      <th></th>\n",
       "      <th>user_id</th>\n",
       "      <th>basket_id</th>\n",
       "      <th>day</th>\n",
       "      <th>item_id</th>\n",
       "      <th>quantity</th>\n",
       "      <th>sales_value</th>\n",
       "      <th>store_id</th>\n",
       "      <th>retail_disc</th>\n",
       "      <th>trans_time</th>\n",
       "      <th>week_no</th>\n",
       "      <th>coupon_disc</th>\n",
       "      <th>coupon_match_disc</th>\n",
       "    </tr>\n",
       "  </thead>\n",
       "  <tbody>\n",
       "    <tr>\n",
       "      <th>0</th>\n",
       "      <td>2375</td>\n",
       "      <td>26984851472</td>\n",
       "      <td>1</td>\n",
       "      <td>1004906</td>\n",
       "      <td>1</td>\n",
       "      <td>1.39</td>\n",
       "      <td>364</td>\n",
       "      <td>-0.6</td>\n",
       "      <td>1631</td>\n",
       "      <td>1</td>\n",
       "      <td>0.0</td>\n",
       "      <td>0.0</td>\n",
       "    </tr>\n",
       "    <tr>\n",
       "      <th>1</th>\n",
       "      <td>2375</td>\n",
       "      <td>26984851472</td>\n",
       "      <td>1</td>\n",
       "      <td>1033142</td>\n",
       "      <td>1</td>\n",
       "      <td>0.82</td>\n",
       "      <td>364</td>\n",
       "      <td>0.0</td>\n",
       "      <td>1631</td>\n",
       "      <td>1</td>\n",
       "      <td>0.0</td>\n",
       "      <td>0.0</td>\n",
       "    </tr>\n",
       "  </tbody>\n",
       "</table>\n",
       "</div>"
      ],
      "text/plain": [
       "   user_id    basket_id  day  item_id  quantity  sales_value  store_id  \\\n",
       "0     2375  26984851472    1  1004906         1         1.39       364   \n",
       "1     2375  26984851472    1  1033142         1         0.82       364   \n",
       "\n",
       "   retail_disc  trans_time  week_no  coupon_disc  coupon_match_disc  \n",
       "0         -0.6        1631        1          0.0                0.0  \n",
       "1          0.0        1631        1          0.0                0.0  "
      ]
     },
     "execution_count": 2,
     "metadata": {},
     "output_type": "execute_result"
    }
   ],
   "source": [
    "data = pd.read_csv('../data/retail_train.csv')\n",
    "item_features = pd.read_csv('../data/product.csv')\n",
    "user_features = pd.read_csv('../data/hh_demographic.csv')\n",
    "\n",
    "# column processing\n",
    "item_features.columns = [col.lower() for col in item_features.columns]\n",
    "user_features.columns = [col.lower() for col in user_features.columns]\n",
    "\n",
    "item_features.rename(columns={'product_id': 'item_id'}, inplace=True)\n",
    "user_features.rename(columns={'household_key': 'user_id'}, inplace=True)\n",
    "\n",
    "\n",
    "# Важна схема обучения и валидации!\n",
    "# -- давние покупки -- | -- 6 недель -- | -- 3 недель -- \n",
    "# подобрать размер 2-ого датасета (6 недель) --> learning curve (зависимость метрики recall@k от размера датасета)\n",
    "val_lvl_1_size_weeks = 6\n",
    "val_lvl_2_size_weeks = 3\n",
    "\n",
    "data_train_lvl_1 = data[data['week_no'] < data['week_no'].max() - (val_lvl_1_size_weeks + val_lvl_2_size_weeks)]\n",
    "data_val_lvl_1 = data[(data['week_no'] >= data['week_no'].max() - (val_lvl_1_size_weeks + val_lvl_2_size_weeks)) &\n",
    "                      (data['week_no'] < data['week_no'].max() - (val_lvl_2_size_weeks))]\n",
    "\n",
    "data_train_lvl_2 = data_val_lvl_1.copy()  # Для наглядности. Далее мы добавим изменения, и они будут отличаться\n",
    "data_val_lvl_2 = data[data['week_no'] >= data['week_no'].max() - val_lvl_2_size_weeks]\n",
    "\n",
    "data_train_lvl_1.head(2)"
   ]
  },
  {
   "cell_type": "code",
   "execution_count": 3,
   "metadata": {},
   "outputs": [
    {
     "name": "stdout",
     "output_type": "stream",
     "text": [
      "Decreased # items from 83685 to 5001\n"
     ]
    }
   ],
   "source": [
    "n_items_before = data_train_lvl_1['item_id'].nunique()\n",
    "\n",
    "data_train_lvl_1 = prefilter_items(data_train_lvl_1, take_n_popular=5000)\n",
    "\n",
    "n_items_after = data_train_lvl_1['item_id'].nunique()\n",
    "print('Decreased # items from {} to {}'.format(n_items_before, n_items_after))"
   ]
  },
  {
   "cell_type": "code",
   "execution_count": 4,
   "metadata": {},
   "outputs": [
    {
     "name": "stderr",
     "output_type": "stream",
     "text": [
      "WARNING:root:Intel MKL BLAS detected. Its highly recommend to set the environment variable 'export MKL_NUM_THREADS=1' to disable its internal multithreading\n"
     ]
    },
    {
     "data": {
      "application/vnd.jupyter.widget-view+json": {
       "model_id": "da7a4e9e996143faa283b83a60726129",
       "version_major": 2,
       "version_minor": 0
      },
      "text/plain": [
       "HBox(children=(FloatProgress(value=0.0, max=15.0), HTML(value='')))"
      ]
     },
     "metadata": {},
     "output_type": "display_data"
    },
    {
     "name": "stdout",
     "output_type": "stream",
     "text": [
      "\n"
     ]
    },
    {
     "data": {
      "application/vnd.jupyter.widget-view+json": {
       "model_id": "f640735735144e5e9b748b9f51fad160",
       "version_major": 2,
       "version_minor": 0
      },
      "text/plain": [
       "HBox(children=(FloatProgress(value=0.0, max=5001.0), HTML(value='')))"
      ]
     },
     "metadata": {},
     "output_type": "display_data"
    },
    {
     "name": "stdout",
     "output_type": "stream",
     "text": [
      "\n"
     ]
    }
   ],
   "source": [
    "recommender = MainRecommender(data_train_lvl_1)"
   ]
  },
  {
   "cell_type": "code",
   "execution_count": 5,
   "metadata": {},
   "outputs": [],
   "source": [
    "# recommender.get_als_recommendations(2375, N=200)"
   ]
  },
  {
   "cell_type": "code",
   "execution_count": 6,
   "metadata": {},
   "outputs": [],
   "source": [
    "# recommender.get_own_recommendations(2375, N=200)"
   ]
  },
  {
   "cell_type": "code",
   "execution_count": 7,
   "metadata": {},
   "outputs": [],
   "source": [
    "# recommender.get_similar_items_recommendation(2375, N=200)"
   ]
  },
  {
   "cell_type": "code",
   "execution_count": 8,
   "metadata": {},
   "outputs": [],
   "source": [
    "# recommender.get_similar_users_recommendation(2375, N=200)"
   ]
  },
  {
   "cell_type": "markdown",
   "metadata": {},
   "source": [
    "### Задание 1\n",
    "\n",
    "A) Попробуйте различные варианты генерации кандидатов. Какие из них дают наибольший recall@k ?\n",
    "- Пока пробуем отобрать 200 кандидатов (k=200)\n",
    "- Качество измеряем на data_val_lvl_1: следующие 6 недель после трейна\n",
    "\n",
    "Дают ли own recommendtions + top-popular лучший recall?  \n",
    "\n",
    "B)* Как зависит recall@k от k? Постройте для одной схемы генерации кандидатов эту зависимость для k = {20, 50, 100, 200, 500}  \n",
    "C)* Исходя из прошлого вопроса, как вы думаете, какое значение k является наиболее разумным?\n"
   ]
  },
  {
   "cell_type": "code",
   "execution_count": 5,
   "metadata": {},
   "outputs": [],
   "source": [
    "result_lvl_1 = data_val_lvl_1.groupby('user_id')['item_id'].unique().reset_index()\n",
    "result_lvl_1.columns=['user_id', 'actual']"
   ]
  },
  {
   "cell_type": "code",
   "execution_count": 6,
   "metadata": {},
   "outputs": [
    {
     "data": {
      "text/html": [
       "<div>\n",
       "<style scoped>\n",
       "    .dataframe tbody tr th:only-of-type {\n",
       "        vertical-align: middle;\n",
       "    }\n",
       "\n",
       "    .dataframe tbody tr th {\n",
       "        vertical-align: top;\n",
       "    }\n",
       "\n",
       "    .dataframe thead th {\n",
       "        text-align: right;\n",
       "    }\n",
       "</style>\n",
       "<table border=\"1\" class=\"dataframe\">\n",
       "  <thead>\n",
       "    <tr style=\"text-align: right;\">\n",
       "      <th></th>\n",
       "      <th>user_id</th>\n",
       "      <th>actual</th>\n",
       "    </tr>\n",
       "  </thead>\n",
       "  <tbody>\n",
       "    <tr>\n",
       "      <th>0</th>\n",
       "      <td>1</td>\n",
       "      <td>[853529, 865456, 867607, 872137, 874905, 87524...</td>\n",
       "    </tr>\n",
       "    <tr>\n",
       "      <th>1</th>\n",
       "      <td>2</td>\n",
       "      <td>[15830248, 838136, 839656, 861272, 866211, 870...</td>\n",
       "    </tr>\n",
       "  </tbody>\n",
       "</table>\n",
       "</div>"
      ],
      "text/plain": [
       "   user_id                                             actual\n",
       "0        1  [853529, 865456, 867607, 872137, 874905, 87524...\n",
       "1        2  [15830248, 838136, 839656, 861272, 866211, 870..."
      ]
     },
     "execution_count": 6,
     "metadata": {},
     "output_type": "execute_result"
    }
   ],
   "source": [
    "result_lvl_1.head(2)"
   ]
  },
  {
   "cell_type": "code",
   "execution_count": 11,
   "metadata": {},
   "outputs": [
    {
     "data": {
      "text/html": [
       "<div>\n",
       "<style scoped>\n",
       "    .dataframe tbody tr th:only-of-type {\n",
       "        vertical-align: middle;\n",
       "    }\n",
       "\n",
       "    .dataframe tbody tr th {\n",
       "        vertical-align: top;\n",
       "    }\n",
       "\n",
       "    .dataframe thead th {\n",
       "        text-align: right;\n",
       "    }\n",
       "</style>\n",
       "<table border=\"1\" class=\"dataframe\">\n",
       "  <thead>\n",
       "    <tr style=\"text-align: right;\">\n",
       "      <th></th>\n",
       "      <th>user_id</th>\n",
       "      <th>actual</th>\n",
       "      <th>als_rec_200</th>\n",
       "      <th>own_rec_200</th>\n",
       "      <th>sim_items_rec_200</th>\n",
       "      <th>sim_user_rec_200</th>\n",
       "    </tr>\n",
       "  </thead>\n",
       "  <tbody>\n",
       "    <tr>\n",
       "      <th>0</th>\n",
       "      <td>1</td>\n",
       "      <td>[853529, 865456, 867607, 872137, 874905, 87524...</td>\n",
       "      <td>[1029272, 1037332, 959455, 8090541, 856942, 96...</td>\n",
       "      <td>[856942, 9297615, 5577022, 877391, 9655212, 88...</td>\n",
       "      <td>[990335, 1127825, 9297615, 5577022, 9803545, 9...</td>\n",
       "      <td>[841365, 972191, 849205, 977559, 896757, 11377...</td>\n",
       "    </tr>\n",
       "    <tr>\n",
       "      <th>1</th>\n",
       "      <td>2</td>\n",
       "      <td>[15830248, 838136, 839656, 861272, 866211, 870...</td>\n",
       "      <td>[5569230, 1029743, 916122, 866211, 919534, 844...</td>\n",
       "      <td>[911974, 1076580, 1103898, 5567582, 1056620, 9...</td>\n",
       "      <td>[8090537, 1044078, 5569845, 819978, 880888, 98...</td>\n",
       "      <td>[1106116, 1028938, 1125837, 949257, 848684, 95...</td>\n",
       "    </tr>\n",
       "  </tbody>\n",
       "</table>\n",
       "</div>"
      ],
      "text/plain": [
       "   user_id                                             actual  \\\n",
       "0        1  [853529, 865456, 867607, 872137, 874905, 87524...   \n",
       "1        2  [15830248, 838136, 839656, 861272, 866211, 870...   \n",
       "\n",
       "                                         als_rec_200  \\\n",
       "0  [1029272, 1037332, 959455, 8090541, 856942, 96...   \n",
       "1  [5569230, 1029743, 916122, 866211, 919534, 844...   \n",
       "\n",
       "                                         own_rec_200  \\\n",
       "0  [856942, 9297615, 5577022, 877391, 9655212, 88...   \n",
       "1  [911974, 1076580, 1103898, 5567582, 1056620, 9...   \n",
       "\n",
       "                                   sim_items_rec_200  \\\n",
       "0  [990335, 1127825, 9297615, 5577022, 9803545, 9...   \n",
       "1  [8090537, 1044078, 5569845, 819978, 880888, 98...   \n",
       "\n",
       "                                    sim_user_rec_200  \n",
       "0  [841365, 972191, 849205, 977559, 896757, 11377...  \n",
       "1  [1106116, 1028938, 1125837, 949257, 848684, 95...  "
      ]
     },
     "execution_count": 11,
     "metadata": {},
     "output_type": "execute_result"
    }
   ],
   "source": [
    "# your_code\n",
    "\n",
    "result_lvl_1['als_rec_200'] = result_lvl_1['user_id'].apply(lambda x: recommender.get_als_recommendations(x, N=200))\n",
    "result_lvl_1['own_rec_200'] = result_lvl_1['user_id'].apply(lambda x: recommender.get_own_recommendations(x, N=200))\n",
    "result_lvl_1['sim_items_rec_200'] = result_lvl_1['user_id'].apply(lambda x: recommender.get_similar_items_recommendation(x, N=200))\n",
    "result_lvl_1['sim_user_rec_200'] = result_lvl_1['user_id'].apply(lambda x: recommender.get_similar_users_recommendation(x, N=200))\n",
    "\n",
    "result_lvl_1.head(2)"
   ]
  },
  {
   "cell_type": "code",
   "execution_count": 13,
   "metadata": {},
   "outputs": [
    {
     "data": {
      "text/plain": [
       "(0.10017407527858331,\n",
       " 0.13922594527068455,\n",
       " 0.08836109860688421,\n",
       " 0.008763551685855329)"
      ]
     },
     "execution_count": 13,
     "metadata": {},
     "output_type": "execute_result"
    }
   ],
   "source": [
    "recall_total = pd.DataFrame()\n",
    "recall_total['user_id'] = result_lvl_1['user_id']\n",
    "recall_total['als_rec_200'] = result_lvl_1.apply(lambda x: recall_at_k(x['als_rec_200'], x['actual'], 200), axis=1)\n",
    "recall_total['own_rec_200'] = result_lvl_1.apply(lambda x: recall_at_k(x['own_rec_200'], x['actual'], 200), axis=1)\n",
    "recall_total['sim_items_rec_200'] = result_lvl_1.apply(lambda x: recall_at_k(x['sim_items_rec_200'], x['actual'], 200), axis=1)\n",
    "recall_total['sim_user_rec_200'] = result_lvl_1.apply(lambda x: recall_at_k(x['sim_user_rec_200'], x['actual'], 200), axis=1)\n",
    "\n",
    "recall_total['als_rec_200'].mean(), recall_total['own_rec_200'].mean(), recall_total['sim_items_rec_200'].mean(), recall_total['sim_user_rec_200'].mean()"
   ]
  },
  {
   "cell_type": "markdown",
   "metadata": {},
   "source": [
    "### Дают ли own recommendtions + top-popular лучший recall?  \n",
    "##### Да, лучший recall у recommendtions + top-popular   (0,139)"
   ]
  },
  {
   "cell_type": "code",
   "execution_count": 17,
   "metadata": {},
   "outputs": [],
   "source": [
    "result_lvl_1['own_rec_20'] = result_lvl_1['user_id'].apply(lambda x: recommender.get_own_recommendations(x, N=20))\n",
    "result_lvl_1['own_rec_50'] = result_lvl_1['user_id'].apply(lambda x: recommender.get_own_recommendations(x, N=50))\n",
    "result_lvl_1['own_rec_100'] = result_lvl_1['user_id'].apply(lambda x: recommender.get_own_recommendations(x, N=100))\n",
    "result_lvl_1['own_rec_500'] = result_lvl_1['user_id'].apply(lambda x: recommender.get_own_recommendations(x, N=500))"
   ]
  },
  {
   "cell_type": "code",
   "execution_count": 18,
   "metadata": {},
   "outputs": [],
   "source": [
    "recall_total['own_rec_20'] = result_lvl_1.apply(lambda x: recall_at_k(x['own_rec_20'], x['actual'], 20), axis=1)\n",
    "recall_total['own_rec_50'] = result_lvl_1.apply(lambda x: recall_at_k(x['own_rec_50'], x['actual'], 50), axis=1)\n",
    "recall_total['own_rec_100'] = result_lvl_1.apply(lambda x: recall_at_k(x['own_rec_100'], x['actual'], 100), axis=1)\n",
    "recall_total['own_rec_500'] = result_lvl_1.apply(lambda x: recall_at_k(x['own_rec_500'], x['actual'], 500), axis=1)"
   ]
  },
  {
   "cell_type": "code",
   "execution_count": 19,
   "metadata": {},
   "outputs": [
    {
     "data": {
      "text/plain": [
       "(0.03969293452045356,\n",
       " 0.06671575052831409,\n",
       " 0.09944273057392405,\n",
       " 0.13922594527068455,\n",
       " 0.18647626408612936)"
      ]
     },
     "execution_count": 19,
     "metadata": {},
     "output_type": "execute_result"
    }
   ],
   "source": [
    "recall_total['own_rec_20'].mean(), recall_total['own_rec_50'].mean(), recall_total['own_rec_100'].mean(), recall_total['own_rec_200'].mean(), recall_total['own_rec_500'].mean()"
   ]
  },
  {
   "cell_type": "markdown",
   "metadata": {},
   "source": [
    "### B)* Как зависит recall@k от k? Постройте для одной схемы генерации кандидатов эту зависимость для k = {20, 50, 100, 200, 500}  \n",
    "### C)* Исходя из прошлого вопроса, как вы думаете, какое значение k является наиболее разумным?\n",
    "##### Чем, больше k, тем выше recall, но разумнее наверное брать наименьшее (k=20)\n"
   ]
  },
  {
   "cell_type": "markdown",
   "metadata": {},
   "source": [
    "### Задание 2.\n",
    "\n",
    "Обучите модель 2-ого уровня, при этом:\n",
    "    - Добавьте минимум по 2 фичи для юзера, товара и пары юзер-товар\n",
    "    - Измерьте отдельно precision@5 модели 1-ого уровня и двухуровневой модели на data_val_lvl_2\n",
    "    - Вырос ли precision@5 при использовании двухуровневой модели?"
   ]
  },
  {
   "cell_type": "code",
   "execution_count": 7,
   "metadata": {},
   "outputs": [],
   "source": [
    "users_lvl_2 = pd.DataFrame(data_train_lvl_2['user_id'].unique())\n",
    "users_lvl_2.columns = ['user_id']\n",
    "users_lvl_2['candidates'] = users_lvl_2['user_id'].apply(lambda x: recommender.get_own_recommendations(x, N=200))"
   ]
  },
  {
   "cell_type": "code",
   "execution_count": 8,
   "metadata": {},
   "outputs": [
    {
     "data": {
      "text/html": [
       "<div>\n",
       "<style scoped>\n",
       "    .dataframe tbody tr th:only-of-type {\n",
       "        vertical-align: middle;\n",
       "    }\n",
       "\n",
       "    .dataframe tbody tr th {\n",
       "        vertical-align: top;\n",
       "    }\n",
       "\n",
       "    .dataframe thead th {\n",
       "        text-align: right;\n",
       "    }\n",
       "</style>\n",
       "<table border=\"1\" class=\"dataframe\">\n",
       "  <thead>\n",
       "    <tr style=\"text-align: right;\">\n",
       "      <th></th>\n",
       "      <th>user_id</th>\n",
       "      <th>item_id</th>\n",
       "      <th>drop</th>\n",
       "    </tr>\n",
       "  </thead>\n",
       "  <tbody>\n",
       "    <tr>\n",
       "      <th>0</th>\n",
       "      <td>2070</td>\n",
       "      <td>1105426</td>\n",
       "      <td>1</td>\n",
       "    </tr>\n",
       "    <tr>\n",
       "      <th>0</th>\n",
       "      <td>2070</td>\n",
       "      <td>1097350</td>\n",
       "      <td>1</td>\n",
       "    </tr>\n",
       "  </tbody>\n",
       "</table>\n",
       "</div>"
      ],
      "text/plain": [
       "   user_id  item_id  drop\n",
       "0     2070  1105426     1\n",
       "0     2070  1097350     1"
      ]
     },
     "execution_count": 8,
     "metadata": {},
     "output_type": "execute_result"
    }
   ],
   "source": [
    "s = users_lvl_2.apply(lambda x: pd.Series(x['candidates']), axis=1).stack().reset_index(level=1, drop=True)\n",
    "s.name = 'item_id'\n",
    "users_lvl_2 = users_lvl_2.drop('candidates', axis=1).join(s)\n",
    "users_lvl_2['drop'] = 1\n",
    "\n",
    "users_lvl_2.head(2)"
   ]
  },
  {
   "cell_type": "code",
   "execution_count": 9,
   "metadata": {},
   "outputs": [],
   "source": [
    "targets_lvl_2 = data_train_lvl_2[['user_id', 'item_id']].copy()\n",
    "targets_lvl_2['target'] = 1  # тут только покупки \n",
    "\n",
    "targets_lvl_2 = users_lvl_2.merge(targets_lvl_2, on=['user_id', 'item_id'], how='left')\n",
    "\n",
    "targets_lvl_2['target'].fillna(0, inplace= True)\n",
    "\n",
    "targets_lvl_2.drop_duplicates(subset =['user_id', 'item_id'], keep = 'first', inplace = True)"
   ]
  },
  {
   "cell_type": "code",
   "execution_count": 10,
   "metadata": {},
   "outputs": [
    {
     "data": {
      "text/html": [
       "<div>\n",
       "<style scoped>\n",
       "    .dataframe tbody tr th:only-of-type {\n",
       "        vertical-align: middle;\n",
       "    }\n",
       "\n",
       "    .dataframe tbody tr th {\n",
       "        vertical-align: top;\n",
       "    }\n",
       "\n",
       "    .dataframe thead th {\n",
       "        text-align: right;\n",
       "    }\n",
       "</style>\n",
       "<table border=\"1\" class=\"dataframe\">\n",
       "  <thead>\n",
       "    <tr style=\"text-align: right;\">\n",
       "      <th></th>\n",
       "      <th>user_id</th>\n",
       "      <th>basket_id</th>\n",
       "      <th>day</th>\n",
       "      <th>item_id</th>\n",
       "      <th>quantity</th>\n",
       "      <th>sales_value</th>\n",
       "      <th>store_id</th>\n",
       "      <th>retail_disc</th>\n",
       "      <th>trans_time</th>\n",
       "      <th>week_no</th>\n",
       "      <th>...</th>\n",
       "      <th>commodity_desc</th>\n",
       "      <th>sub_commodity_desc</th>\n",
       "      <th>curr_size_of_product</th>\n",
       "      <th>age_desc</th>\n",
       "      <th>marital_status_code</th>\n",
       "      <th>income_desc</th>\n",
       "      <th>homeowner_desc</th>\n",
       "      <th>hh_comp_desc</th>\n",
       "      <th>household_size_desc</th>\n",
       "      <th>kid_category_desc</th>\n",
       "    </tr>\n",
       "  </thead>\n",
       "  <tbody>\n",
       "    <tr>\n",
       "      <th>0</th>\n",
       "      <td>2070</td>\n",
       "      <td>40618492260</td>\n",
       "      <td>594</td>\n",
       "      <td>1019940</td>\n",
       "      <td>1</td>\n",
       "      <td>1.00</td>\n",
       "      <td>311</td>\n",
       "      <td>-0.29</td>\n",
       "      <td>40</td>\n",
       "      <td>86</td>\n",
       "      <td>...</td>\n",
       "      <td>SOFT DRINKS</td>\n",
       "      <td>SOFT DRINK BOTTLE NON-CARB (EX</td>\n",
       "      <td>20 OZ</td>\n",
       "      <td>45-54</td>\n",
       "      <td>U</td>\n",
       "      <td>50-74K</td>\n",
       "      <td>Unknown</td>\n",
       "      <td>Unknown</td>\n",
       "      <td>1</td>\n",
       "      <td>None/Unknown</td>\n",
       "    </tr>\n",
       "    <tr>\n",
       "      <th>1</th>\n",
       "      <td>2021</td>\n",
       "      <td>40618753059</td>\n",
       "      <td>594</td>\n",
       "      <td>840361</td>\n",
       "      <td>1</td>\n",
       "      <td>0.99</td>\n",
       "      <td>443</td>\n",
       "      <td>0.00</td>\n",
       "      <td>101</td>\n",
       "      <td>86</td>\n",
       "      <td>...</td>\n",
       "      <td>EGGS</td>\n",
       "      <td>EGGS - LARGE</td>\n",
       "      <td>1 DZ</td>\n",
       "      <td>NaN</td>\n",
       "      <td>NaN</td>\n",
       "      <td>NaN</td>\n",
       "      <td>NaN</td>\n",
       "      <td>NaN</td>\n",
       "      <td>NaN</td>\n",
       "      <td>NaN</td>\n",
       "    </tr>\n",
       "  </tbody>\n",
       "</table>\n",
       "<p>2 rows × 25 columns</p>\n",
       "</div>"
      ],
      "text/plain": [
       "   user_id    basket_id  day  item_id  quantity  sales_value  store_id  \\\n",
       "0     2070  40618492260  594  1019940         1         1.00       311   \n",
       "1     2021  40618753059  594   840361         1         0.99       443   \n",
       "\n",
       "   retail_disc  trans_time  week_no  ...  commodity_desc  \\\n",
       "0        -0.29          40       86  ...     SOFT DRINKS   \n",
       "1         0.00         101       86  ...            EGGS   \n",
       "\n",
       "               sub_commodity_desc  curr_size_of_product age_desc  \\\n",
       "0  SOFT DRINK BOTTLE NON-CARB (EX                 20 OZ    45-54   \n",
       "1                    EGGS - LARGE                  1 DZ      NaN   \n",
       "\n",
       "  marital_status_code income_desc homeowner_desc hh_comp_desc  \\\n",
       "0                   U      50-74K        Unknown      Unknown   \n",
       "1                 NaN         NaN            NaN          NaN   \n",
       "\n",
       "  household_size_desc kid_category_desc  \n",
       "0                   1      None/Unknown  \n",
       "1                 NaN               NaN  \n",
       "\n",
       "[2 rows x 25 columns]"
      ]
     },
     "execution_count": 10,
     "metadata": {},
     "output_type": "execute_result"
    }
   ],
   "source": [
    "data_train_lvl_2 = data_train_lvl_2.merge(item_features, on='item_id', how='left')\n",
    "data_train_lvl_2 = data_train_lvl_2.merge(user_features, on='user_id', how='left')\n",
    "\n",
    "data_train_lvl_2.head(2)"
   ]
  },
  {
   "cell_type": "markdown",
   "metadata": {},
   "source": [
    "### Генерация фичей"
   ]
  },
  {
   "cell_type": "code",
   "execution_count": 11,
   "metadata": {},
   "outputs": [],
   "source": [
    "# Количество покупок по категориям\n",
    "def create_feature_u_1(df=data_train_lvl_2):\n",
    "    feat_u_1 = df[['user_id', 'department']].copy()\n",
    "    feat_u_1 = pd.get_dummies(feat_u_1)\n",
    "    feat_u_1 = feat_u_1.groupby(by='user_id').sum()\n",
    "\n",
    "    return feat_u_1"
   ]
  },
  {
   "cell_type": "code",
   "execution_count": 12,
   "metadata": {},
   "outputs": [],
   "source": [
    "# Средний чек\n",
    "def create_feature_u_2(df=data_train_lvl_2):\n",
    "    feat_u_2 = df[['user_id', 'basket_id', 'sales_value']].copy()\n",
    "    feat_u_2 = feat_u_2.groupby(by=['user_id', 'basket_id']).sum()\n",
    "    feat_u_2 = feat_u_2.groupby(by=['user_id']).mean()\n",
    "    feat_u_2.rename(columns={\"sales_value\": \"average_bill\"}, inplace=True)\n",
    "\n",
    "    return feat_u_2"
   ]
  },
  {
   "cell_type": "code",
   "execution_count": 13,
   "metadata": {},
   "outputs": [],
   "source": [
    "# Кол-во покупок в неделю\n",
    "def create_feature_i_1(df=data_train_lvl_2):\n",
    "    feat_i_1 = df[['item_id', 'quantity', 'week_no']].copy()\n",
    "    feat_i_1 = feat_i_1[feat_i_1['quantity'] > 0]\n",
    "    feat_i_1 = feat_i_1.groupby(by=['item_id', 'week_no']).sum()\n",
    "    feat_i_1 = feat_i_1.groupby(by=['item_id']).mean()\n",
    "    feat_i_1.rename(columns={\"quantity\": \"quantity_per_week\"}, inplace=True)\n",
    "\n",
    "    return feat_i_1"
   ]
  },
  {
   "cell_type": "code",
   "execution_count": 14,
   "metadata": {},
   "outputs": [],
   "source": [
    "# Средняя цена товара в категории\n",
    "def create_feature_i_2(df=data_train_lvl_2):\n",
    "    feat_i_2 = df[['item_id', 'quantity', 'sales_value', 'sub_commodity_desc']].copy()\n",
    "    feat_i_2 = feat_i_2[feat_i_2['quantity'] > 0]\n",
    "    feat_i_2['per_unit'] = feat_i_2['sales_value'] / feat_i_2['quantity']\n",
    "    avr_per_comm = feat_i_2.groupby(by=['sub_commodity_desc']).mean()[['per_unit']].rename(columns={\"per_unit\": \"avr_per_comm\"})\n",
    "    \n",
    "    return avr_per_comm"
   ]
  },
  {
   "cell_type": "code",
   "execution_count": 15,
   "metadata": {},
   "outputs": [],
   "source": [
    "# (Средняя сумма покупки 1 товара в каждой категории (берем категорию item_id)) - (Цена item_id)\n",
    "def create_feature_u_i_1(avr_per_comm, df=data_train_lvl_2):\n",
    "    feat_u_i_1 = df[['user_id', 'item_id', 'quantity', 'sales_value', 'sub_commodity_desc']].copy()\n",
    "    feat_u_i_1 = feat_u_i_1[feat_u_i_1['quantity'] > 0]\n",
    "    feat_u_i_1 = feat_u_i_1.merge(avr_per_comm, on=['sub_commodity_desc'], how='left')  # avr_per_comm посчитан выше в feat_i_2\n",
    "    feat_u_i_1['per_unit'] = feat_u_i_1['sales_value'] / feat_u_i_1['quantity']\n",
    "    feat_u_i_1['diff_unit_avr'] = feat_u_i_1['per_unit'] - feat_u_i_1['avr_per_comm']\n",
    "    feat_u_i_1 = feat_u_i_1[['user_id', 'item_id', 'diff_unit_avr']]\n",
    "\n",
    "    return feat_u_i_1"
   ]
  },
  {
   "cell_type": "code",
   "execution_count": 16,
   "metadata": {},
   "outputs": [],
   "source": [
    "# (Кол-во покупок юзером конкретной категории в неделю) / (Среднее кол-во покупок всеми юзерами конкретной категории в неделю)\n",
    "def create_feature_u_i_2(df=data_train_lvl_2):\n",
    "    feat_u_i_2 = df[['user_id', 'quantity', 'sub_commodity_desc', 'week_no']].copy()\n",
    "    feat_u_i_2 = feat_u_i_2[feat_u_i_2['quantity'] > 0]\n",
    "    total_u = feat_u_i_2.groupby(by=['sub_commodity_desc', 'week_no']).sum()[['quantity']].rename(columns={\"quantity\": \"quantity_per_week\"})\n",
    "    feat_u_i_2 = feat_u_i_2.groupby(by=['user_id', 'sub_commodity_desc', 'week_no'], as_index = False).sum()\n",
    "    feat_u_i_2 = feat_u_i_2.merge(total_u, on=['sub_commodity_desc', 'week_no'], how='left')\n",
    "    feat_u_i_2 = feat_u_i_2.groupby(by=['user_id', 'sub_commodity_desc'], as_index = False).mean()\n",
    "    feat_u_i_2['diff_2'] = feat_u_i_2['quantity'] / feat_u_i_2['quantity_per_week']\n",
    "    feat_u_i_2 = feat_u_i_2[['user_id', 'sub_commodity_desc', 'diff_2']]\n",
    "    \n",
    "    return feat_u_i_2"
   ]
  },
  {
   "cell_type": "code",
   "execution_count": 17,
   "metadata": {},
   "outputs": [
    {
     "data": {
      "text/html": [
       "<div>\n",
       "<style scoped>\n",
       "    .dataframe tbody tr th:only-of-type {\n",
       "        vertical-align: middle;\n",
       "    }\n",
       "\n",
       "    .dataframe tbody tr th {\n",
       "        vertical-align: top;\n",
       "    }\n",
       "\n",
       "    .dataframe thead th {\n",
       "        text-align: right;\n",
       "    }\n",
       "</style>\n",
       "<table border=\"1\" class=\"dataframe\">\n",
       "  <thead>\n",
       "    <tr style=\"text-align: right;\">\n",
       "      <th></th>\n",
       "      <th>user_id</th>\n",
       "      <th>item_id</th>\n",
       "      <th>drop</th>\n",
       "      <th>target</th>\n",
       "      <th>sub_commodity_desc</th>\n",
       "      <th>department_</th>\n",
       "      <th>department_AUTOMOTIVE</th>\n",
       "      <th>department_CHEF SHOPPE</th>\n",
       "      <th>department_CNTRL/STORE SUP</th>\n",
       "      <th>department_COSMETICS</th>\n",
       "      <th>...</th>\n",
       "      <th>department_SEAFOOD</th>\n",
       "      <th>department_SEAFOOD-PCKGD</th>\n",
       "      <th>department_SPIRITS</th>\n",
       "      <th>department_TRAVEL &amp; LEISUR</th>\n",
       "      <th>department_VIDEO</th>\n",
       "      <th>average_bill</th>\n",
       "      <th>quantity_per_week</th>\n",
       "      <th>avr_per_comm</th>\n",
       "      <th>diff_unit_avr</th>\n",
       "      <th>diff_2</th>\n",
       "    </tr>\n",
       "  </thead>\n",
       "  <tbody>\n",
       "    <tr>\n",
       "      <th>0</th>\n",
       "      <td>2070</td>\n",
       "      <td>1105426</td>\n",
       "      <td>1</td>\n",
       "      <td>0.0</td>\n",
       "      <td>SANDWICHES - (COLD)</td>\n",
       "      <td>0.0</td>\n",
       "      <td>0.0</td>\n",
       "      <td>1.0</td>\n",
       "      <td>0.0</td>\n",
       "      <td>0.0</td>\n",
       "      <td>...</td>\n",
       "      <td>0.0</td>\n",
       "      <td>1.0</td>\n",
       "      <td>0.0</td>\n",
       "      <td>0.0</td>\n",
       "      <td>0.0</td>\n",
       "      <td>14.355581</td>\n",
       "      <td>1.666667</td>\n",
       "      <td>3.447175</td>\n",
       "      <td>0.0</td>\n",
       "      <td>0.0</td>\n",
       "    </tr>\n",
       "    <tr>\n",
       "      <th>1</th>\n",
       "      <td>2070</td>\n",
       "      <td>1097350</td>\n",
       "      <td>1</td>\n",
       "      <td>0.0</td>\n",
       "      <td>VALUE GLASS WINE</td>\n",
       "      <td>0.0</td>\n",
       "      <td>0.0</td>\n",
       "      <td>1.0</td>\n",
       "      <td>0.0</td>\n",
       "      <td>0.0</td>\n",
       "      <td>...</td>\n",
       "      <td>0.0</td>\n",
       "      <td>1.0</td>\n",
       "      <td>0.0</td>\n",
       "      <td>0.0</td>\n",
       "      <td>0.0</td>\n",
       "      <td>14.355581</td>\n",
       "      <td>1.000000</td>\n",
       "      <td>7.371633</td>\n",
       "      <td>0.0</td>\n",
       "      <td>0.0</td>\n",
       "    </tr>\n",
       "  </tbody>\n",
       "</table>\n",
       "<p>2 rows × 41 columns</p>\n",
       "</div>"
      ],
      "text/plain": [
       "   user_id  item_id  drop  target   sub_commodity_desc  department_   \\\n",
       "0     2070  1105426     1     0.0  SANDWICHES - (COLD)           0.0   \n",
       "1     2070  1097350     1     0.0     VALUE GLASS WINE           0.0   \n",
       "\n",
       "   department_AUTOMOTIVE  department_CHEF SHOPPE  department_CNTRL/STORE SUP  \\\n",
       "0                    0.0                     1.0                         0.0   \n",
       "1                    0.0                     1.0                         0.0   \n",
       "\n",
       "   department_COSMETICS  ...  department_SEAFOOD  department_SEAFOOD-PCKGD  \\\n",
       "0                   0.0  ...                 0.0                       1.0   \n",
       "1                   0.0  ...                 0.0                       1.0   \n",
       "\n",
       "   department_SPIRITS  department_TRAVEL & LEISUR  department_VIDEO  \\\n",
       "0                 0.0                         0.0               0.0   \n",
       "1                 0.0                         0.0               0.0   \n",
       "\n",
       "   average_bill  quantity_per_week  avr_per_comm  diff_unit_avr  diff_2  \n",
       "0     14.355581           1.666667      3.447175            0.0     0.0  \n",
       "1     14.355581           1.000000      7.371633            0.0     0.0  \n",
       "\n",
       "[2 rows x 41 columns]"
      ]
     },
     "execution_count": 17,
     "metadata": {},
     "output_type": "execute_result"
    }
   ],
   "source": [
    "# Сводная таблица\n",
    "feat_u_1 = create_feature_u_1(df=data_train_lvl_2)\n",
    "feat_u_2 = create_feature_u_2(df=data_train_lvl_2)\n",
    "feat_i_1 = create_feature_i_1(df=data_train_lvl_2)\n",
    "avr_per_comm = create_feature_i_2(df=data_train_lvl_2)\n",
    "feat_u_i_1 = create_feature_u_i_1(avr_per_comm=avr_per_comm, df=data_train_lvl_2)\n",
    "feat_u_i_2 = create_feature_u_i_2(df=data_train_lvl_2)\n",
    "\n",
    "\n",
    "result = targets_lvl_2.merge(item_features[['item_id', 'sub_commodity_desc']], on=['item_id'], how='left')\n",
    "\n",
    "result = result.merge(feat_u_1, on=['user_id'], how='left')\n",
    "result = result.merge(feat_u_2, on=['user_id'], how='left')\n",
    "\n",
    "result = result.merge(feat_i_1, on=['item_id'], how='left')\n",
    "result = result.merge(avr_per_comm, on=['sub_commodity_desc'], how='left')\n",
    "\n",
    "result = result.merge(feat_u_i_1, on=['user_id', 'item_id'], how='left')\n",
    "result = result.merge(feat_u_i_2, on=['user_id', 'sub_commodity_desc'], how='left')\n",
    "\n",
    "result.fillna(value=0, inplace=True)\n",
    "result.head(2)"
   ]
  },
  {
   "cell_type": "code",
   "execution_count": 18,
   "metadata": {},
   "outputs": [
    {
     "data": {
      "text/html": [
       "<div>\n",
       "<style scoped>\n",
       "    .dataframe tbody tr th:only-of-type {\n",
       "        vertical-align: middle;\n",
       "    }\n",
       "\n",
       "    .dataframe tbody tr th {\n",
       "        vertical-align: top;\n",
       "    }\n",
       "\n",
       "    .dataframe thead th {\n",
       "        text-align: right;\n",
       "    }\n",
       "</style>\n",
       "<table border=\"1\" class=\"dataframe\">\n",
       "  <thead>\n",
       "    <tr style=\"text-align: right;\">\n",
       "      <th></th>\n",
       "      <th>user_id</th>\n",
       "      <th>item_id</th>\n",
       "      <th>drop</th>\n",
       "      <th>target</th>\n",
       "      <th>sub_commodity_desc</th>\n",
       "      <th>department_</th>\n",
       "      <th>department_AUTOMOTIVE</th>\n",
       "      <th>department_CHEF SHOPPE</th>\n",
       "      <th>department_CNTRL/STORE SUP</th>\n",
       "      <th>department_COSMETICS</th>\n",
       "      <th>...</th>\n",
       "      <th>department_SEAFOOD</th>\n",
       "      <th>department_SEAFOOD-PCKGD</th>\n",
       "      <th>department_SPIRITS</th>\n",
       "      <th>department_TRAVEL &amp; LEISUR</th>\n",
       "      <th>department_VIDEO</th>\n",
       "      <th>average_bill</th>\n",
       "      <th>quantity_per_week</th>\n",
       "      <th>avr_per_comm</th>\n",
       "      <th>diff_unit_avr</th>\n",
       "      <th>diff_2</th>\n",
       "    </tr>\n",
       "  </thead>\n",
       "  <tbody>\n",
       "    <tr>\n",
       "      <th>0</th>\n",
       "      <td>2070</td>\n",
       "      <td>1105426</td>\n",
       "      <td>1</td>\n",
       "      <td>0.0</td>\n",
       "      <td>637</td>\n",
       "      <td>0.0</td>\n",
       "      <td>0.0</td>\n",
       "      <td>1.0</td>\n",
       "      <td>0.0</td>\n",
       "      <td>0.0</td>\n",
       "      <td>...</td>\n",
       "      <td>0.0</td>\n",
       "      <td>1.0</td>\n",
       "      <td>0.0</td>\n",
       "      <td>0.0</td>\n",
       "      <td>0.0</td>\n",
       "      <td>14.355581</td>\n",
       "      <td>1.666667</td>\n",
       "      <td>3.447175</td>\n",
       "      <td>0.0</td>\n",
       "      <td>0.0</td>\n",
       "    </tr>\n",
       "    <tr>\n",
       "      <th>1</th>\n",
       "      <td>2070</td>\n",
       "      <td>1097350</td>\n",
       "      <td>1</td>\n",
       "      <td>0.0</td>\n",
       "      <td>776</td>\n",
       "      <td>0.0</td>\n",
       "      <td>0.0</td>\n",
       "      <td>1.0</td>\n",
       "      <td>0.0</td>\n",
       "      <td>0.0</td>\n",
       "      <td>...</td>\n",
       "      <td>0.0</td>\n",
       "      <td>1.0</td>\n",
       "      <td>0.0</td>\n",
       "      <td>0.0</td>\n",
       "      <td>0.0</td>\n",
       "      <td>14.355581</td>\n",
       "      <td>1.000000</td>\n",
       "      <td>7.371633</td>\n",
       "      <td>0.0</td>\n",
       "      <td>0.0</td>\n",
       "    </tr>\n",
       "  </tbody>\n",
       "</table>\n",
       "<p>2 rows × 41 columns</p>\n",
       "</div>"
      ],
      "text/plain": [
       "   user_id  item_id  drop  target  sub_commodity_desc  department_   \\\n",
       "0     2070  1105426     1     0.0                 637           0.0   \n",
       "1     2070  1097350     1     0.0                 776           0.0   \n",
       "\n",
       "   department_AUTOMOTIVE  department_CHEF SHOPPE  department_CNTRL/STORE SUP  \\\n",
       "0                    0.0                     1.0                         0.0   \n",
       "1                    0.0                     1.0                         0.0   \n",
       "\n",
       "   department_COSMETICS  ...  department_SEAFOOD  department_SEAFOOD-PCKGD  \\\n",
       "0                   0.0  ...                 0.0                       1.0   \n",
       "1                   0.0  ...                 0.0                       1.0   \n",
       "\n",
       "   department_SPIRITS  department_TRAVEL & LEISUR  department_VIDEO  \\\n",
       "0                 0.0                         0.0               0.0   \n",
       "1                 0.0                         0.0               0.0   \n",
       "\n",
       "   average_bill  quantity_per_week  avr_per_comm  diff_unit_avr  diff_2  \n",
       "0     14.355581           1.666667      3.447175            0.0     0.0  \n",
       "1     14.355581           1.000000      7.371633            0.0     0.0  \n",
       "\n",
       "[2 rows x 41 columns]"
      ]
     },
     "execution_count": 18,
     "metadata": {},
     "output_type": "execute_result"
    }
   ],
   "source": [
    "le = LabelEncoder()\n",
    "result[\"sub_commodity_desc\"] = le.fit_transform(result[\"sub_commodity_desc\"])\n",
    "\n",
    "result.head(2)"
   ]
  },
  {
   "cell_type": "markdown",
   "metadata": {},
   "source": [
    "### Train"
   ]
  },
  {
   "cell_type": "code",
   "execution_count": 19,
   "metadata": {},
   "outputs": [],
   "source": [
    "X_train = result.drop('target', axis=1)\n",
    "y_train = result[['target']]"
   ]
  },
  {
   "cell_type": "markdown",
   "metadata": {},
   "source": [
    "### Validation"
   ]
  },
  {
   "cell_type": "code",
   "execution_count": 20,
   "metadata": {},
   "outputs": [],
   "source": [
    "users_val = pd.DataFrame(data_val_lvl_2['user_id'].unique())\n",
    "users_val.columns = ['user_id']\n",
    "users_val['candidates'] = users_val['user_id'].apply(lambda x: recommender.get_own_recommendations(x, N=200))\n",
    "\n",
    "s = users_val.apply(lambda x: pd.Series(x['candidates']), axis=1).stack().reset_index(level=1, drop=True)\n",
    "s.name = 'item_id'\n",
    "users_val = users_val.drop('candidates', axis=1).join(s)\n",
    "users_val['drop'] = 1\n",
    "\n",
    "targets_val = data_val_lvl_2[['user_id', 'item_id']].copy()\n",
    "targets_val['target'] = 1  # тут только покупки \n",
    "targets_val = users_val.merge(targets_val, on=['user_id', 'item_id'], how='left')\n",
    "\n",
    "targets_val['target'].fillna(0, inplace= True)\n",
    "targets_val.drop_duplicates(subset =['user_id', 'item_id'], keep = 'first', inplace = True, ignore_index=True)"
   ]
  },
  {
   "cell_type": "code",
   "execution_count": 21,
   "metadata": {},
   "outputs": [],
   "source": [
    "# Добавляем фичи\n",
    "\n",
    "result_val = targets_val.merge(item_features[['item_id', 'sub_commodity_desc']], on=['item_id'], how='left')\n",
    "\n",
    "result_val = result_val.merge(feat_u_1, on=['user_id'], how='left')\n",
    "result_val = result_val.merge(feat_u_2, on=['user_id'], how='left')\n",
    "\n",
    "result_val = result_val.merge(feat_i_1, on=['item_id'], how='left')\n",
    "result_val = result_val.merge(avr_per_comm, on=['sub_commodity_desc'], how='left')\n",
    "\n",
    "result_val = result_val.merge(feat_u_i_1, on=['user_id', 'item_id'], how='left')\n",
    "result_val = result_val.merge(feat_u_i_2, on=['user_id', 'sub_commodity_desc'], how='left')\n",
    "\n",
    "result_val.fillna(value=0, inplace=True)\n",
    "result_val.drop_duplicates(subset =['user_id', 'item_id'], keep = 'first', inplace = True, ignore_index=True)"
   ]
  },
  {
   "cell_type": "code",
   "execution_count": 22,
   "metadata": {},
   "outputs": [],
   "source": [
    "result_val[\"sub_commodity_desc\"] = le.transform(result_val[\"sub_commodity_desc\"])"
   ]
  },
  {
   "cell_type": "code",
   "execution_count": 23,
   "metadata": {},
   "outputs": [],
   "source": [
    "result_val = result_val.reindex(columns = result.columns, fill_value=0)"
   ]
  },
  {
   "cell_type": "code",
   "execution_count": 24,
   "metadata": {},
   "outputs": [],
   "source": [
    "X_val = result_val.drop('target', axis=1)\n",
    "y_val = result_val[['target']]"
   ]
  },
  {
   "cell_type": "markdown",
   "metadata": {},
   "source": [
    "### LightGBM"
   ]
  },
  {
   "cell_type": "code",
   "execution_count": 25,
   "metadata": {},
   "outputs": [
    {
     "name": "stderr",
     "output_type": "stream",
     "text": [
      "C:\\Users\\Eugene\\anaconda3\\lib\\site-packages\\sklearn\\utils\\validation.py:73: DataConversionWarning: A column-vector y was passed when a 1d array was expected. Please change the shape of y to (n_samples, ), for example using ravel().\n",
      "  return f(**kwargs)\n"
     ]
    },
    {
     "name": "stdout",
     "output_type": "stream",
     "text": [
      "Wall time: 2.78 s\n"
     ]
    }
   ],
   "source": [
    "%%time\n",
    "\n",
    "lgb = LGBMClassifier(objective='binary', max_depth=7)\n",
    "lgb.fit(X_train, y_train)\n",
    "\n",
    "val_preds = lgb.predict_proba(X_val)"
   ]
  },
  {
   "cell_type": "markdown",
   "metadata": {},
   "source": [
    "### Берем топ 5 для каждого юзера"
   ]
  },
  {
   "cell_type": "code",
   "execution_count": 26,
   "metadata": {},
   "outputs": [
    {
     "data": {
      "text/html": [
       "<div>\n",
       "<style scoped>\n",
       "    .dataframe tbody tr th:only-of-type {\n",
       "        vertical-align: middle;\n",
       "    }\n",
       "\n",
       "    .dataframe tbody tr th {\n",
       "        vertical-align: top;\n",
       "    }\n",
       "\n",
       "    .dataframe thead th {\n",
       "        text-align: right;\n",
       "    }\n",
       "</style>\n",
       "<table border=\"1\" class=\"dataframe\">\n",
       "  <thead>\n",
       "    <tr style=\"text-align: right;\">\n",
       "      <th></th>\n",
       "      <th>user_id</th>\n",
       "      <th>item_id</th>\n",
       "      <th>drop</th>\n",
       "      <th>target</th>\n",
       "      <th>score</th>\n",
       "    </tr>\n",
       "  </thead>\n",
       "  <tbody>\n",
       "    <tr>\n",
       "      <th>29827</th>\n",
       "      <td>2500</td>\n",
       "      <td>1065538</td>\n",
       "      <td>1</td>\n",
       "      <td>0.0</td>\n",
       "      <td>0.999965</td>\n",
       "    </tr>\n",
       "    <tr>\n",
       "      <th>29842</th>\n",
       "      <td>2500</td>\n",
       "      <td>1013389</td>\n",
       "      <td>1</td>\n",
       "      <td>0.0</td>\n",
       "      <td>0.999965</td>\n",
       "    </tr>\n",
       "    <tr>\n",
       "      <th>29898</th>\n",
       "      <td>2500</td>\n",
       "      <td>5566235</td>\n",
       "      <td>1</td>\n",
       "      <td>0.0</td>\n",
       "      <td>0.999965</td>\n",
       "    </tr>\n",
       "    <tr>\n",
       "      <th>29913</th>\n",
       "      <td>2500</td>\n",
       "      <td>1019643</td>\n",
       "      <td>1</td>\n",
       "      <td>0.0</td>\n",
       "      <td>0.999965</td>\n",
       "    </tr>\n",
       "    <tr>\n",
       "      <th>29952</th>\n",
       "      <td>2500</td>\n",
       "      <td>1085357</td>\n",
       "      <td>1</td>\n",
       "      <td>0.0</td>\n",
       "      <td>0.999965</td>\n",
       "    </tr>\n",
       "  </tbody>\n",
       "</table>\n",
       "</div>"
      ],
      "text/plain": [
       "       user_id  item_id  drop  target     score\n",
       "29827     2500  1065538     1     0.0  0.999965\n",
       "29842     2500  1013389     1     0.0  0.999965\n",
       "29898     2500  5566235     1     0.0  0.999965\n",
       "29913     2500  1019643     1     0.0  0.999965\n",
       "29952     2500  1085357     1     0.0  0.999965"
      ]
     },
     "execution_count": 26,
     "metadata": {},
     "output_type": "execute_result"
    }
   ],
   "source": [
    "top_5 = targets_val.copy()\n",
    "top_5['score'] = [x[1] for x in val_preds]\n",
    "top_5 = top_5.sort_values(['user_id', 'score'], ascending=False).groupby('user_id').head(5)\n",
    "top_5.head(5)"
   ]
  },
  {
   "cell_type": "code",
   "execution_count": 27,
   "metadata": {},
   "outputs": [
    {
     "data": {
      "text/plain": [
       "0.22007835455435848"
      ]
     },
     "execution_count": 27,
     "metadata": {},
     "output_type": "execute_result"
    }
   ],
   "source": [
    "# precision_at_5\n",
    "top_5['target'].sum() / top_5.shape[0]"
   ]
  },
  {
   "cell_type": "code",
   "execution_count": 28,
   "metadata": {},
   "outputs": [
    {
     "data": {
      "text/plain": [
       "0.1444662095984329"
      ]
     },
     "execution_count": 28,
     "metadata": {},
     "output_type": "execute_result"
    }
   ],
   "source": [
    "# precision_at_5 у get_own_recommender\n",
    "top_5_get_own = targets_val.groupby('user_id').head(5)\n",
    "top_5_get_own['target'].sum() / top_5_get_own.shape[0]"
   ]
  },
  {
   "cell_type": "code",
   "execution_count": 29,
   "metadata": {},
   "outputs": [
    {
     "data": {
      "text/plain": [
       "0.1444662095984319"
      ]
     },
     "execution_count": 29,
     "metadata": {},
     "output_type": "execute_result"
    }
   ],
   "source": [
    "# тоже precision_at_5 у get_own_recommender для проверки\n",
    "result_lvl_2 = data_val_lvl_2.groupby('user_id')['item_id'].unique().reset_index()\n",
    "result_lvl_2.columns=['user_id', 'actual']\n",
    "result_lvl_2['own_rec_5'] = result_lvl_2['user_id'].apply(lambda x: recommender.get_own_recommendations(x, N=5))\n",
    "\n",
    "result_lvl_2.apply(lambda x: precision_at_k(x['own_rec_5'], x['actual'], 5), axis=1).mean()"
   ]
  },
  {
   "cell_type": "markdown",
   "metadata": {},
   "source": [
    "**Результат у LightGBM : precision_at_5 = 0,22**"
   ]
  },
  {
   "cell_type": "code",
   "execution_count": null,
   "metadata": {},
   "outputs": [],
   "source": []
  }
 ],
 "metadata": {
  "kernelspec": {
   "display_name": "Python 3",
   "language": "python",
   "name": "python3"
  },
  "language_info": {
   "codemirror_mode": {
    "name": "ipython",
    "version": 3
   },
   "file_extension": ".py",
   "mimetype": "text/x-python",
   "name": "python",
   "nbconvert_exporter": "python",
   "pygments_lexer": "ipython3",
   "version": "3.7.7"
  }
 },
 "nbformat": 4,
 "nbformat_minor": 2
}
